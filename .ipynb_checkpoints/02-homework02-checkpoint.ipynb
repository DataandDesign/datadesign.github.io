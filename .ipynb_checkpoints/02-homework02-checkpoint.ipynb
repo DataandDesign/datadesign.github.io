{
 "cells": [
  {
   "cell_type": "markdown",
   "metadata": {},
   "source": [
    "# Exploring Data\n",
    "\n",
    "**GOAL**:\n",
    "\n",
    "- Load and describe dataset, variables, and variable types\n",
    "- Explore categorical features and quantitative features using basic measures of center and spread (`.describe()`)\n",
    "- Filter categorical and quantitative features by logical criteria\n",
    "- Explore groups of categories using the `.groupby()` method.\n",
    "- Use `.nlargest()` and `.nsmallest()` to filter large and small values of interest"
   ]
  },
  {
   "cell_type": "markdown",
   "metadata": {},
   "source": [
    "## Load and Describe\n",
    "\n",
    "Below, we have a dataset from NYCOpenData related to police incidents.  First, we load in the dataset using the `pd.read_csv()` method.  Then, using the `.info()` method, we can examine the different features, feature data types, and missing values in the data."
   ]
  },
  {
   "cell_type": "code",
   "execution_count": 4,
   "metadata": {},
   "outputs": [],
   "source": [
    "import pandas as pd"
   ]
  },
  {
   "cell_type": "code",
   "execution_count": 23,
   "metadata": {},
   "outputs": [
    {
     "name": "stderr",
     "output_type": "stream",
     "text": [
      "/anaconda3/lib/python3.6/site-packages/IPython/core/interactiveshell.py:2728: DtypeWarning: Columns (12,18) have mixed types. Specify dtype option on import or set low_memory=False.\n",
      "  interactivity=interactivity, compiler=compiler, result=result)\n"
     ]
    }
   ],
   "source": [
    "police = pd.read_csv('data/nyc_police_incidents.csv')"
   ]
  },
  {
   "cell_type": "code",
   "execution_count": 24,
   "metadata": {},
   "outputs": [
    {
     "name": "stdout",
     "output_type": "stream",
     "text": [
      "<class 'pandas.core.frame.DataFrame'>\n",
      "RangeIndex: 100000 entries, 0 to 99999\n",
      "Data columns (total 25 columns):\n",
      "Unnamed: 0           100000 non-null int64\n",
      "addr_pct_cd          99999 non-null float64\n",
      "boro_nm              99997 non-null object\n",
      "cmplnt_fr_dt         99993 non-null object\n",
      "cmplnt_fr_tm         100000 non-null object\n",
      "cmplnt_num           100000 non-null int64\n",
      "cmplnt_to_dt         73252 non-null object\n",
      "cmplnt_to_tm         73272 non-null object\n",
      "crm_atpt_cptd_cd     100000 non-null object\n",
      "hadevelopt           2532 non-null object\n",
      "juris_desc           100000 non-null object\n",
      "ky_cd                100000 non-null int64\n",
      "lat_lon              11 non-null object\n",
      "latitude             11 non-null float64\n",
      "law_cat_cd           100000 non-null object\n",
      "loc_of_occur_desc    56034 non-null object\n",
      "longitude            11 non-null float64\n",
      "ofns_desc            99662 non-null object\n",
      "parks_nm             541 non-null object\n",
      "pd_cd                100000 non-null float64\n",
      "pd_desc              100000 non-null object\n",
      "prem_typ_desc        99506 non-null object\n",
      "rpt_dt               100000 non-null object\n",
      "x_coord_cd           11 non-null float64\n",
      "y_coord_cd           11 non-null float64\n",
      "dtypes: float64(6), int64(3), object(16)\n",
      "memory usage: 19.1+ MB\n"
     ]
    }
   ],
   "source": [
    "police.info()"
   ]
  },
  {
   "cell_type": "markdown",
   "metadata": {},
   "source": [
    "### Split, Apply, Combine\n",
    "\n",
    "Using the `.groupby()` method is a great way to explore patterns within a categorical variable.  The effect of grouping our data based on boro name would allow us to then apply some kind of summary to the individual groups.  The image below demonstrate splitting and applying the mean to each group.  In our data, for example, if we wanted to know the number of complaints by borough, we could groupby the boro name and select a relevant column to count.  \n",
    "![](images/sac.png)\n",
    "\n"
   ]
  },
  {
   "cell_type": "code",
   "execution_count": 7,
   "metadata": {},
   "outputs": [
    {
     "data": {
      "text/plain": [
       "boro_nm\n",
       "BRONX            22227\n",
       "BROOKLYN         20980\n",
       "MANHATTAN        20657\n",
       "QUEENS           31733\n",
       "STATEN ISLAND     4393\n",
       "Name: cmplnt_fr_dt, dtype: int64"
      ]
     },
     "execution_count": 7,
     "metadata": {},
     "output_type": "execute_result"
    }
   ],
   "source": [
    "police.groupby('boro_nm')['cmplnt_fr_dt'].count()"
   ]
  },
  {
   "cell_type": "markdown",
   "metadata": {},
   "source": [
    "If we wanted to plot the results, we can save the results as a variable and use a bar plot where we pull the names to be the horizontal values, and the count to be the height.  The names are the indicies of our variable; i.e. `bor.index()`.  The actual values are the only contents of `bor`."
   ]
  },
  {
   "cell_type": "code",
   "execution_count": 8,
   "metadata": {},
   "outputs": [],
   "source": [
    "bor = police.groupby('boro_nm')['cmplnt_fr_dt'].count()"
   ]
  },
  {
   "cell_type": "code",
   "execution_count": 9,
   "metadata": {},
   "outputs": [
    {
     "data": {
      "text/plain": [
       "boro_nm\n",
       "BRONX            22227\n",
       "BROOKLYN         20980\n",
       "MANHATTAN        20657\n",
       "QUEENS           31733\n",
       "STATEN ISLAND     4393\n",
       "Name: cmplnt_fr_dt, dtype: int64"
      ]
     },
     "execution_count": 9,
     "metadata": {},
     "output_type": "execute_result"
    }
   ],
   "source": [
    "bor"
   ]
  },
  {
   "cell_type": "code",
   "execution_count": 10,
   "metadata": {},
   "outputs": [
    {
     "data": {
      "text/plain": [
       "22227"
      ]
     },
     "execution_count": 10,
     "metadata": {},
     "output_type": "execute_result"
    }
   ],
   "source": [
    "bor[0]"
   ]
  },
  {
   "cell_type": "code",
   "execution_count": 11,
   "metadata": {},
   "outputs": [
    {
     "data": {
      "text/plain": [
       "pandas.core.series.Series"
      ]
     },
     "execution_count": 11,
     "metadata": {},
     "output_type": "execute_result"
    }
   ],
   "source": [
    "type(bor)"
   ]
  },
  {
   "cell_type": "code",
   "execution_count": 12,
   "metadata": {},
   "outputs": [
    {
     "data": {
      "text/plain": [
       "Index(['BRONX', 'BROOKLYN', 'MANHATTAN', 'QUEENS', 'STATEN ISLAND'], dtype='object', name='boro_nm')"
      ]
     },
     "execution_count": 12,
     "metadata": {},
     "output_type": "execute_result"
    }
   ],
   "source": [
    "bor.index"
   ]
  },
  {
   "cell_type": "code",
   "execution_count": 13,
   "metadata": {},
   "outputs": [
    {
     "data": {
      "text/plain": [
       "boro_nm\n",
       "BRONX            22227\n",
       "BROOKLYN         20980\n",
       "MANHATTAN        20657\n",
       "QUEENS           31733\n",
       "STATEN ISLAND     4393\n",
       "Name: cmplnt_fr_dt, dtype: int64"
      ]
     },
     "execution_count": 13,
     "metadata": {},
     "output_type": "execute_result"
    }
   ],
   "source": [
    "bor[:]"
   ]
  },
  {
   "cell_type": "code",
   "execution_count": 29,
   "metadata": {},
   "outputs": [
    {
     "data": {
      "text/plain": [
       "<Container object of 5 artists>"
      ]
     },
     "execution_count": 29,
     "metadata": {},
     "output_type": "execute_result"
    },
    {
     "data": {
      "image/png": "[encoded data removed]",
      "text/plain": [
       "<matplotlib.figure.Figure at 0x1109ef7f0>"
      ]
     },
     "metadata": {},
     "output_type": "display_data"
    }
   ],
   "source": [
    "plt.bar(bor.index, bor)"
   ]
  },
  {
   "cell_type": "markdown",
   "metadata": {},
   "source": [
    "### Examining Wine Reviews\n",
    "\n",
    "![](images/kwine.png)\n",
    "\n",
    "Below, we use a dataset on wine reviews from kaggle.com.  Again, we want to do some basic explorations of the data.  Here, we load in our zip file and examine the data."
   ]
  },
  {
   "cell_type": "code",
   "execution_count": 15,
   "metadata": {},
   "outputs": [],
   "source": [
    "wine = pd.read_csv('data/winemag-data-130k-v2.csv.zip', compression = 'zip')"
   ]
  },
  {
   "cell_type": "code",
   "execution_count": 16,
   "metadata": {},
   "outputs": [
    {
     "name": "stdout",
     "output_type": "stream",
     "text": [
      "<class 'pandas.core.frame.DataFrame'>\n",
      "RangeIndex: 129971 entries, 0 to 129970\n",
      "Data columns (total 14 columns):\n",
      "Unnamed: 0               129971 non-null int64\n",
      "country                  129908 non-null object\n",
      "description              129971 non-null object\n",
      "designation              92506 non-null object\n",
      "points                   129971 non-null int64\n",
      "price                    120975 non-null float64\n",
      "province                 129908 non-null object\n",
      "region_1                 108724 non-null object\n",
      "region_2                 50511 non-null object\n",
      "taster_name              103727 non-null object\n",
      "taster_twitter_handle    98758 non-null object\n",
      "title                    129971 non-null object\n",
      "variety                  129970 non-null object\n",
      "winery                   129971 non-null object\n",
      "dtypes: float64(1), int64(2), object(11)\n",
      "memory usage: 13.9+ MB\n"
     ]
    }
   ],
   "source": [
    "wine.info()"
   ]
  },
  {
   "cell_type": "markdown",
   "metadata": {},
   "source": [
    "Because we are dealing with wine ratings, we want to understand the good and bad.  Further, we may be interested in affordable good wines.  Accordingly, we would want to filter the price column to limit this boundary, and then find the highest reviewed wines.  For me, I will set the limit at 11 dollars.  Then, I want to see the best and worst wines and their information."
   ]
  },
  {
   "cell_type": "code",
   "execution_count": 17,
   "metadata": {},
   "outputs": [],
   "source": [
    "chuck = wine[wine['price'] < 11]"
   ]
  },
  {
   "cell_type": "code",
   "execution_count": 18,
   "metadata": {},
   "outputs": [
    {
     "data": {
      "text/html": [
       "<div>\n",
       "<style scoped>\n",
       "    .dataframe tbody tr th:only-of-type {\n",
       "        vertical-align: middle;\n",
       "    }\n",
       "\n",
       "    .dataframe tbody tr th {\n",
       "        vertical-align: top;\n",
       "    }\n",
       "\n",
       "    .dataframe thead th {\n",
       "        text-align: right;\n",
       "    }\n",
       "</style>\n",
       "<table border=\"1\" class=\"dataframe\">\n",
       "  <thead>\n",
       "    <tr style=\"text-align: right;\">\n",
       "      <th></th>\n",
       "      <th>Unnamed: 0</th>\n",
       "      <th>country</th>\n",
       "      <th>description</th>\n",
       "      <th>designation</th>\n",
       "      <th>points</th>\n",
       "      <th>price</th>\n",
       "      <th>province</th>\n",
       "      <th>region_1</th>\n",
       "      <th>region_2</th>\n",
       "      <th>taster_name</th>\n",
       "      <th>taster_twitter_handle</th>\n",
       "      <th>title</th>\n",
       "      <th>variety</th>\n",
       "      <th>winery</th>\n",
       "    </tr>\n",
       "  </thead>\n",
       "  <tbody>\n",
       "    <tr>\n",
       "      <th>10386</th>\n",
       "      <td>10386</td>\n",
       "      <td>US</td>\n",
       "      <td>A marvelous effort in a difficult year, this t...</td>\n",
       "      <td>NaN</td>\n",
       "      <td>91</td>\n",
       "      <td>9.0</td>\n",
       "      <td>Washington</td>\n",
       "      <td>Columbia Valley (WA)</td>\n",
       "      <td>Columbia Valley</td>\n",
       "      <td>Paul Gregutt</td>\n",
       "      <td>@paulgwine</td>\n",
       "      <td>Chateau Ste. Michelle 2011 Riesling (Columbia ...</td>\n",
       "      <td>Riesling</td>\n",
       "      <td>Chateau Ste. Michelle</td>\n",
       "    </tr>\n",
       "    <tr>\n",
       "      <th>11955</th>\n",
       "      <td>11955</td>\n",
       "      <td>Portugal</td>\n",
       "      <td>A firm wine, based on dry tannins and some den...</td>\n",
       "      <td>Mural Reserva</td>\n",
       "      <td>91</td>\n",
       "      <td>10.0</td>\n",
       "      <td>Douro</td>\n",
       "      <td>NaN</td>\n",
       "      <td>NaN</td>\n",
       "      <td>Roger Voss</td>\n",
       "      <td>@vossroger</td>\n",
       "      <td>Quinta do Portal 2007 Mural Reserva Red (Douro)</td>\n",
       "      <td>Portuguese Red</td>\n",
       "      <td>Quinta do Portal</td>\n",
       "    </tr>\n",
       "    <tr>\n",
       "      <th>18310</th>\n",
       "      <td>18310</td>\n",
       "      <td>Portugal</td>\n",
       "      <td>Orange peel aromas emerge on this delectable f...</td>\n",
       "      <td>NaN</td>\n",
       "      <td>91</td>\n",
       "      <td>10.0</td>\n",
       "      <td>Moscatel de Setúbal</td>\n",
       "      <td>NaN</td>\n",
       "      <td>NaN</td>\n",
       "      <td>Roger Voss</td>\n",
       "      <td>@vossroger</td>\n",
       "      <td>José Maria da Fonseca 2007  Moscatel de Setúbal</td>\n",
       "      <td>Moscatel</td>\n",
       "      <td>José Maria da Fonseca</td>\n",
       "    </tr>\n",
       "    <tr>\n",
       "      <th>26101</th>\n",
       "      <td>26101</td>\n",
       "      <td>US</td>\n",
       "      <td>With full ripeness, density and concentration,...</td>\n",
       "      <td>Winemaker's Select</td>\n",
       "      <td>91</td>\n",
       "      <td>8.0</td>\n",
       "      <td>Washington</td>\n",
       "      <td>Columbia Valley (WA)</td>\n",
       "      <td>Columbia Valley</td>\n",
       "      <td>Paul Gregutt</td>\n",
       "      <td>@paulgwine</td>\n",
       "      <td>Snoqualmie 2006 Winemaker's Select Riesling (C...</td>\n",
       "      <td>Riesling</td>\n",
       "      <td>Snoqualmie</td>\n",
       "    </tr>\n",
       "    <tr>\n",
       "      <th>27415</th>\n",
       "      <td>27415</td>\n",
       "      <td>US</td>\n",
       "      <td>Gorgeous aromas of peach, pear, flower and spi...</td>\n",
       "      <td>NaN</td>\n",
       "      <td>91</td>\n",
       "      <td>10.0</td>\n",
       "      <td>Washington</td>\n",
       "      <td>Columbia Valley (WA)</td>\n",
       "      <td>Columbia Valley</td>\n",
       "      <td>Paul Gregutt</td>\n",
       "      <td>@paulgwine</td>\n",
       "      <td>Barnard Griffin 2012 Riesling (Columbia Valley...</td>\n",
       "      <td>Riesling</td>\n",
       "      <td>Barnard Griffin</td>\n",
       "    </tr>\n",
       "  </tbody>\n",
       "</table>\n",
       "</div>"
      ],
      "text/plain": [
       "       Unnamed: 0   country  \\\n",
       "10386       10386        US   \n",
       "11955       11955  Portugal   \n",
       "18310       18310  Portugal   \n",
       "26101       26101        US   \n",
       "27415       27415        US   \n",
       "\n",
       "                                             description         designation  \\\n",
       "10386  A marvelous effort in a difficult year, this t...                 NaN   \n",
       "11955  A firm wine, based on dry tannins and some den...       Mural Reserva   \n",
       "18310  Orange peel aromas emerge on this delectable f...                 NaN   \n",
       "26101  With full ripeness, density and concentration,...  Winemaker's Select   \n",
       "27415  Gorgeous aromas of peach, pear, flower and spi...                 NaN   \n",
       "\n",
       "       points  price             province              region_1  \\\n",
       "10386      91    9.0           Washington  Columbia Valley (WA)   \n",
       "11955      91   10.0                Douro                   NaN   \n",
       "18310      91   10.0  Moscatel de Setúbal                   NaN   \n",
       "26101      91    8.0           Washington  Columbia Valley (WA)   \n",
       "27415      91   10.0           Washington  Columbia Valley (WA)   \n",
       "\n",
       "              region_2   taster_name taster_twitter_handle  \\\n",
       "10386  Columbia Valley  Paul Gregutt           @paulgwine    \n",
       "11955              NaN    Roger Voss            @vossroger   \n",
       "18310              NaN    Roger Voss            @vossroger   \n",
       "26101  Columbia Valley  Paul Gregutt           @paulgwine    \n",
       "27415  Columbia Valley  Paul Gregutt           @paulgwine    \n",
       "\n",
       "                                                   title         variety  \\\n",
       "10386  Chateau Ste. Michelle 2011 Riesling (Columbia ...        Riesling   \n",
       "11955    Quinta do Portal 2007 Mural Reserva Red (Douro)  Portuguese Red   \n",
       "18310    José Maria da Fonseca 2007  Moscatel de Setúbal        Moscatel   \n",
       "26101  Snoqualmie 2006 Winemaker's Select Riesling (C...        Riesling   \n",
       "27415  Barnard Griffin 2012 Riesling (Columbia Valley...        Riesling   \n",
       "\n",
       "                      winery  \n",
       "10386  Chateau Ste. Michelle  \n",
       "11955       Quinta do Portal  \n",
       "18310  José Maria da Fonseca  \n",
       "26101             Snoqualmie  \n",
       "27415        Barnard Griffin  "
      ]
     },
     "execution_count": 18,
     "metadata": {},
     "output_type": "execute_result"
    }
   ],
   "source": [
    "chuck.nlargest(5, 'points')"
   ]
  },
  {
   "cell_type": "code",
   "execution_count": 25,
   "metadata": {},
   "outputs": [
    {
     "data": {
      "text/html": [
       "<div>\n",
       "<style scoped>\n",
       "    .dataframe tbody tr th:only-of-type {\n",
       "        vertical-align: middle;\n",
       "    }\n",
       "\n",
       "    .dataframe tbody tr th {\n",
       "        vertical-align: top;\n",
       "    }\n",
       "\n",
       "    .dataframe thead th {\n",
       "        text-align: right;\n",
       "    }\n",
       "</style>\n",
       "<table border=\"1\" class=\"dataframe\">\n",
       "  <thead>\n",
       "    <tr style=\"text-align: right;\">\n",
       "      <th></th>\n",
       "      <th>Unnamed: 0</th>\n",
       "      <th>country</th>\n",
       "      <th>description</th>\n",
       "      <th>designation</th>\n",
       "      <th>points</th>\n",
       "      <th>price</th>\n",
       "      <th>province</th>\n",
       "      <th>region_1</th>\n",
       "      <th>region_2</th>\n",
       "      <th>taster_name</th>\n",
       "      <th>taster_twitter_handle</th>\n",
       "      <th>title</th>\n",
       "      <th>variety</th>\n",
       "      <th>winery</th>\n",
       "    </tr>\n",
       "  </thead>\n",
       "  <tbody>\n",
       "    <tr>\n",
       "      <th>3640</th>\n",
       "      <td>3640</td>\n",
       "      <td>Portugal</td>\n",
       "      <td>Aromas of strawberry sherbet are followed by s...</td>\n",
       "      <td>Estreia</td>\n",
       "      <td>80</td>\n",
       "      <td>8.0</td>\n",
       "      <td>Vinho Verde</td>\n",
       "      <td>NaN</td>\n",
       "      <td>NaN</td>\n",
       "      <td>Roger Voss</td>\n",
       "      <td>@vossroger</td>\n",
       "      <td>Viniverde 2011 Estreia Rosé (Vinho Verde)</td>\n",
       "      <td>Rosé</td>\n",
       "      <td>Viniverde</td>\n",
       "    </tr>\n",
       "    <tr>\n",
       "      <th>7333</th>\n",
       "      <td>7333</td>\n",
       "      <td>US</td>\n",
       "      <td>Too sweet by far for a table wine, with simple...</td>\n",
       "      <td>NaN</td>\n",
       "      <td>80</td>\n",
       "      <td>10.0</td>\n",
       "      <td>California</td>\n",
       "      <td>California</td>\n",
       "      <td>California Other</td>\n",
       "      <td>NaN</td>\n",
       "      <td>NaN</td>\n",
       "      <td>Esser Cellars 2005 Zinfandel (California)</td>\n",
       "      <td>Zinfandel</td>\n",
       "      <td>Esser Cellars</td>\n",
       "    </tr>\n",
       "    <tr>\n",
       "      <th>11085</th>\n",
       "      <td>11085</td>\n",
       "      <td>France</td>\n",
       "      <td>A white this age should be fresh and crisp; th...</td>\n",
       "      <td>NaN</td>\n",
       "      <td>80</td>\n",
       "      <td>8.0</td>\n",
       "      <td>Southwest France</td>\n",
       "      <td>Bergerac</td>\n",
       "      <td>NaN</td>\n",
       "      <td>Joe Czerwinski</td>\n",
       "      <td>@JoeCz</td>\n",
       "      <td>Seigneurs de Bergerac 1999 White (Bergerac)</td>\n",
       "      <td>White Blend</td>\n",
       "      <td>Seigneurs de Bergerac</td>\n",
       "    </tr>\n",
       "    <tr>\n",
       "      <th>13782</th>\n",
       "      <td>13782</td>\n",
       "      <td>Chile</td>\n",
       "      <td>Yeasty, melony and smelling like yellow mustar...</td>\n",
       "      <td>Left Coast</td>\n",
       "      <td>80</td>\n",
       "      <td>7.0</td>\n",
       "      <td>Chile</td>\n",
       "      <td>NaN</td>\n",
       "      <td>NaN</td>\n",
       "      <td>Michael Schachner</td>\n",
       "      <td>@wineschach</td>\n",
       "      <td>flipflop NV Left Coast Moscato (Chile)</td>\n",
       "      <td>Moscato</td>\n",
       "      <td>flipflop</td>\n",
       "    </tr>\n",
       "    <tr>\n",
       "      <th>15609</th>\n",
       "      <td>15609</td>\n",
       "      <td>Argentina</td>\n",
       "      <td>Beware of funky labeled Malbecs because many d...</td>\n",
       "      <td>NaN</td>\n",
       "      <td>80</td>\n",
       "      <td>10.0</td>\n",
       "      <td>Mendoza Province</td>\n",
       "      <td>Mendoza</td>\n",
       "      <td>NaN</td>\n",
       "      <td>Michael Schachner</td>\n",
       "      <td>@wineschach</td>\n",
       "      <td>Ku Dé Ta 2006 Malbec (Mendoza)</td>\n",
       "      <td>Malbec</td>\n",
       "      <td>Ku Dé Ta</td>\n",
       "    </tr>\n",
       "  </tbody>\n",
       "</table>\n",
       "</div>"
      ],
      "text/plain": [
       "       Unnamed: 0    country  \\\n",
       "3640         3640   Portugal   \n",
       "7333         7333         US   \n",
       "11085       11085     France   \n",
       "13782       13782      Chile   \n",
       "15609       15609  Argentina   \n",
       "\n",
       "                                             description designation  points  \\\n",
       "3640   Aromas of strawberry sherbet are followed by s...     Estreia      80   \n",
       "7333   Too sweet by far for a table wine, with simple...         NaN      80   \n",
       "11085  A white this age should be fresh and crisp; th...         NaN      80   \n",
       "13782  Yeasty, melony and smelling like yellow mustar...  Left Coast      80   \n",
       "15609  Beware of funky labeled Malbecs because many d...         NaN      80   \n",
       "\n",
       "       price          province    region_1          region_2  \\\n",
       "3640     8.0       Vinho Verde         NaN               NaN   \n",
       "7333    10.0        California  California  California Other   \n",
       "11085    8.0  Southwest France    Bergerac               NaN   \n",
       "13782    7.0             Chile         NaN               NaN   \n",
       "15609   10.0  Mendoza Province     Mendoza               NaN   \n",
       "\n",
       "             taster_name taster_twitter_handle  \\\n",
       "3640          Roger Voss            @vossroger   \n",
       "7333                 NaN                   NaN   \n",
       "11085     Joe Czerwinski                @JoeCz   \n",
       "13782  Michael Schachner           @wineschach   \n",
       "15609  Michael Schachner           @wineschach   \n",
       "\n",
       "                                             title      variety  \\\n",
       "3640     Viniverde 2011 Estreia Rosé (Vinho Verde)         Rosé   \n",
       "7333     Esser Cellars 2005 Zinfandel (California)    Zinfandel   \n",
       "11085  Seigneurs de Bergerac 1999 White (Bergerac)  White Blend   \n",
       "13782       flipflop NV Left Coast Moscato (Chile)      Moscato   \n",
       "15609               Ku Dé Ta 2006 Malbec (Mendoza)       Malbec   \n",
       "\n",
       "                      winery  \n",
       "3640               Viniverde  \n",
       "7333           Esser Cellars  \n",
       "11085  Seigneurs de Bergerac  \n",
       "13782               flipflop  \n",
       "15609               Ku Dé Ta  "
      ]
     },
     "execution_count": 25,
     "metadata": {},
     "output_type": "execute_result"
    }
   ],
   "source": [
    "chuck.nsmallest(5, 'points')"
   ]
  },
  {
   "cell_type": "markdown",
   "metadata": {},
   "source": [
    "If we wanted to see the largest producers of different varieties of wine, we could group by country, select the variety column, and apply a count on this.  To only see the five largest, we can then use the `.nlargest(5)` on the outcome of our split-apply-combine routine."
   ]
  },
  {
   "cell_type": "code",
   "execution_count": 26,
   "metadata": {},
   "outputs": [
    {
     "data": {
      "text/plain": [
       "country\n",
       "US          54504\n",
       "France      22093\n",
       "Italy       19540\n",
       "Spain        6645\n",
       "Portugal     5691\n",
       "Name: variety, dtype: int64"
      ]
     },
     "execution_count": 26,
     "metadata": {},
     "output_type": "execute_result"
    }
   ],
   "source": [
    "wine.groupby('country')['variety'].count().nlargest(5)"
   ]
  },
  {
   "cell_type": "code",
   "execution_count": 27,
   "metadata": {},
   "outputs": [
    {
     "data": {
      "text/plain": [
       "<matplotlib.axes._subplots.AxesSubplot at 0x10c0f10f0>"
      ]
     },
     "execution_count": 27,
     "metadata": {},
     "output_type": "execute_result"
    },
    {
     "data": {
      "image/png": "[encoded data removed]",
      "text/plain": [
       "<matplotlib.figure.Figure at 0x1083d2d30>"
      ]
     },
     "metadata": {},
     "output_type": "display_data"
    }
   ],
   "source": [
    "wine['points'].hist()"
   ]
  },
  {
   "cell_type": "code",
   "execution_count": 28,
   "metadata": {},
   "outputs": [
    {
     "data": {
      "text/plain": [
       "count    129971.000000\n",
       "mean         88.447138\n",
       "std           3.039730\n",
       "min          80.000000\n",
       "25%          86.000000\n",
       "50%          88.000000\n",
       "75%          91.000000\n",
       "max         100.000000\n",
       "Name: points, dtype: float64"
      ]
     },
     "execution_count": 28,
     "metadata": {},
     "output_type": "execute_result"
    }
   ],
   "source": [
    "wine['points'].describe()"
   ]
  },
  {
   "cell_type": "markdown",
   "metadata": {},
   "source": [
    "### PROBLEMS\n",
    "\n",
    "1. What is the top rated red wine under eighteen dollars a bottle?  Lowest rated white in the same price range?\n",
    "\n",
    "2. What reviewers were the most generous?  The least?  Describe your approach.\n",
    "\n",
    "3. Suppose we have the following data read in as a pandas dataframe called `df`.  \n",
    "\n",
    "| id | name | age | speed | color | \n",
    "|  ----- | ----- | ----- | ----- | ----- |\n",
    "| 1 | Hennessy | 12 | 4.2 | red |\n",
    "| 2 | Tino | 5 | 6.9 | white |\n",
    "| 3 | Oden | 11 | 5.5 | yellow |\n",
    "| 4 | LuLu | 6  | 4.5 | red |\n",
    "\n",
    "Write the result of the following operations\n",
    "\n",
    "- `df['name']`\n",
    "- `df['color'].value_counts()`\n",
    "- `df.nlargest(2, 'age')`\n",
    "- `df.describe()`\n",
    "- `df.groupby('color')['age'].mean()`\n",
    "\n",
    "\n",
    "4. Go back to the wine data.  Write down five purely descriptive questions that could be answered from the data.  \n",
    "\n",
    "5. Choose three of your questions and provide an initial answer.  If you run into problems please post in slack.  \n",
    "\n",
    "6. Find a tutorial online dealing with Pandas.  One place to look is the Pandas documentation (https://pandas.pydata.org/pandas-docs/stable/tutorials.html).  Go through the tutorial and write a few sentences describing the topic, what you learned, and what you are still confused about in terms of operations with Pandas.  There are many youtube tutorials, blogs, and open source texts that detail python and pandas, find something you're interested in, you will be sharing this with the class."
   ]
  }
 ],
 "metadata": {
  "kernelspec": {
   "display_name": "Python 3",
   "language": "python",
   "name": "python3"
  },
  "language_info": {
   "codemirror_mode": {
    "name": "ipython",
    "version": 3
   },
   "file_extension": ".py",
   "mimetype": "text/x-python",
   "name": "python",
   "nbconvert_exporter": "python",
   "pygments_lexer": "ipython3",
   "version": "3.6.6"
  }
 },
 "nbformat": 4,
 "nbformat_minor": 2
}
