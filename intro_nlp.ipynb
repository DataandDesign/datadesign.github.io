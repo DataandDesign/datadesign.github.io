{
 "cells": [
  {
   "cell_type": "markdown",
   "metadata": {},
   "source": [
    "# Are Punks Negative?\n",
    "\n",
    "\n",
    "Today, our goal is to extend our webscraping capabilities and examine some record reviews from the website MaximumRocknRoll.  \n",
    "\n"
   ]
  },
  {
   "cell_type": "code",
   "execution_count": 138,
   "metadata": {},
   "outputs": [
    {
     "data": {
      "text/html": [
       "<iframe width=\"560\" height=\"315\" src=\"https://youtu.be/F-ai3HGCjGA\" frameborder=\"0\" allowfullscreen></iframe>"
      ],
      "text/plain": [
       "<IPython.core.display.HTML object>"
      ]
     },
     "metadata": {},
     "output_type": "display_data"
    }
   ],
   "source": [
    "%%HTML\n",
    "<iframe width=\"560\" height=\"315\" src=\"https://youtu.be/F-ai3HGCjGA\" frameborder=\"0\" allowfullscreen></iframe>"
   ]
  },
  {
   "cell_type": "markdown",
   "metadata": {},
   "source": [
    "![](images/mrrev.png)"
   ]
  },
  {
   "cell_type": "code",
   "execution_count": 111,
   "metadata": {},
   "outputs": [],
   "source": [
    "from textblob import TextBlob"
   ]
  },
  {
   "cell_type": "code",
   "execution_count": 112,
   "metadata": {},
   "outputs": [],
   "source": [
    "text = \"Hennessy is happy it's getting cold out.\""
   ]
  },
  {
   "cell_type": "code",
   "execution_count": 113,
   "metadata": {},
   "outputs": [],
   "source": [
    "blob = TextBlob(text)"
   ]
  },
  {
   "cell_type": "code",
   "execution_count": 114,
   "metadata": {},
   "outputs": [
    {
     "data": {
      "text/plain": [
       "WordList(['Hennessy', 'is', 'happy', 'it', \"'s\", 'getting', 'cold', 'out'])"
      ]
     },
     "execution_count": 114,
     "metadata": {},
     "output_type": "execute_result"
    }
   ],
   "source": [
    "blob.words"
   ]
  },
  {
   "cell_type": "code",
   "execution_count": 115,
   "metadata": {},
   "outputs": [
    {
     "data": {
      "text/plain": [
       "TextBlob(\"HENNESSY IS HAPPY IT'S GETTING COLD OUT.\")"
      ]
     },
     "execution_count": 115,
     "metadata": {},
     "output_type": "execute_result"
    }
   ],
   "source": [
    "blob.upper()"
   ]
  },
  {
   "cell_type": "code",
   "execution_count": 116,
   "metadata": {},
   "outputs": [
    {
     "data": {
      "text/plain": [
       "Sentiment(polarity=0.10000000000000003, subjectivity=1.0)"
      ]
     },
     "execution_count": 116,
     "metadata": {},
     "output_type": "execute_result"
    }
   ],
   "source": [
    "blob.sentiment"
   ]
  },
  {
   "cell_type": "code",
   "execution_count": 117,
   "metadata": {},
   "outputs": [
    {
     "data": {
      "text/plain": [
       "[('Hennessy', 'NNP'),\n",
       " ('is', 'VBZ'),\n",
       " ('happy', 'JJ'),\n",
       " ('it', 'PRP'),\n",
       " (\"'s\", 'VBZ'),\n",
       " ('getting', 'VBG'),\n",
       " ('cold', 'VBN'),\n",
       " ('out', 'RP')]"
      ]
     },
     "execution_count": 117,
     "metadata": {},
     "output_type": "execute_result"
    }
   ],
   "source": [
    "blob.pos_tags"
   ]
  },
  {
   "cell_type": "code",
   "execution_count": 118,
   "metadata": {},
   "outputs": [],
   "source": [
    "text2 = \"my soup was made with tomato and beans\""
   ]
  },
  {
   "cell_type": "code",
   "execution_count": 119,
   "metadata": {},
   "outputs": [],
   "source": [
    "blob2 = TextBlob(text2)"
   ]
  },
  {
   "cell_type": "code",
   "execution_count": 120,
   "metadata": {},
   "outputs": [
    {
     "data": {
      "text/plain": [
       "Sentiment(polarity=0.0, subjectivity=0.0)"
      ]
     },
     "execution_count": 120,
     "metadata": {},
     "output_type": "execute_result"
    }
   ],
   "source": [
    "blob2.sentiment"
   ]
  },
  {
   "cell_type": "code",
   "execution_count": 121,
   "metadata": {},
   "outputs": [
    {
     "data": {
      "text/plain": [
       "defaultdict(int,\n",
       "            {'and': 1,\n",
       "             'beans': 1,\n",
       "             'made': 1,\n",
       "             'my': 1,\n",
       "             'soup': 1,\n",
       "             'tomato': 1,\n",
       "             'was': 1,\n",
       "             'with': 1})"
      ]
     },
     "execution_count": 121,
     "metadata": {},
     "output_type": "execute_result"
    }
   ],
   "source": [
    "blob2.word_counts"
   ]
  },
  {
   "cell_type": "code",
   "execution_count": 122,
   "metadata": {},
   "outputs": [],
   "source": [
    "counts = blob2.word_counts"
   ]
  },
  {
   "cell_type": "code",
   "execution_count": 74,
   "metadata": {},
   "outputs": [
    {
     "data": {
      "text/plain": [
       "dict_keys(['my', 'soup', 'was', 'made', 'with', 'tomato', 'and', 'beans'])"
      ]
     },
     "execution_count": 74,
     "metadata": {},
     "output_type": "execute_result"
    }
   ],
   "source": [
    "counts.keys()"
   ]
  },
  {
   "cell_type": "code",
   "execution_count": 75,
   "metadata": {},
   "outputs": [
    {
     "data": {
      "text/plain": [
       "dict_values([1, 1, 1, 1, 1, 1, 1, 1])"
      ]
     },
     "execution_count": 75,
     "metadata": {},
     "output_type": "execute_result"
    }
   ],
   "source": [
    "counts.values()"
   ]
  },
  {
   "cell_type": "code",
   "execution_count": 76,
   "metadata": {},
   "outputs": [],
   "source": [
    "%matplotlib inline\n",
    "import matplotlib.pyplot as plt"
   ]
  },
  {
   "cell_type": "code",
   "execution_count": 77,
   "metadata": {},
   "outputs": [
    {
     "data": {
      "text/plain": [
       "<Container object of 8 artists>"
      ]
     },
     "execution_count": 77,
     "metadata": {},
     "output_type": "execute_result"
    },
    {
     "data": {
      "image/png": "[encoded data removed]",
      "text/plain": [
       "<matplotlib.figure.Figure at 0x117f57668>"
      ]
     },
     "metadata": {},
     "output_type": "display_data"
    }
   ],
   "source": [
    "plt.bar(counts.keys(), counts.values())"
   ]
  },
  {
   "cell_type": "code",
   "execution_count": 123,
   "metadata": {},
   "outputs": [],
   "source": [
    "import pandas as pd"
   ]
  },
  {
   "cell_type": "code",
   "execution_count": 124,
   "metadata": {},
   "outputs": [],
   "source": [
    "yelp = pd.read_csv('data/yelp.csv')"
   ]
  },
  {
   "cell_type": "code",
   "execution_count": 125,
   "metadata": {},
   "outputs": [
    {
     "name": "stdout",
     "output_type": "stream",
     "text": [
      "<class 'pandas.core.frame.DataFrame'>\n",
      "RangeIndex: 10000 entries, 0 to 9999\n",
      "Data columns (total 10 columns):\n",
      "business_id    10000 non-null object\n",
      "date           10000 non-null object\n",
      "review_id      10000 non-null object\n",
      "stars          10000 non-null int64\n",
      "text           10000 non-null object\n",
      "type           10000 non-null object\n",
      "user_id        10000 non-null object\n",
      "cool           10000 non-null int64\n",
      "useful         10000 non-null int64\n",
      "funny          10000 non-null int64\n",
      "dtypes: int64(4), object(6)\n",
      "memory usage: 781.3+ KB\n"
     ]
    }
   ],
   "source": [
    "yelp.info()"
   ]
  },
  {
   "cell_type": "code",
   "execution_count": 89,
   "metadata": {},
   "outputs": [
    {
     "data": {
      "text/html": [
       "<div>\n",
       "<style scoped>\n",
       "    .dataframe tbody tr th:only-of-type {\n",
       "        vertical-align: middle;\n",
       "    }\n",
       "\n",
       "    .dataframe tbody tr th {\n",
       "        vertical-align: top;\n",
       "    }\n",
       "\n",
       "    .dataframe thead th {\n",
       "        text-align: right;\n",
       "    }\n",
       "</style>\n",
       "<table border=\"1\" class=\"dataframe\">\n",
       "  <thead>\n",
       "    <tr style=\"text-align: right;\">\n",
       "      <th></th>\n",
       "      <th>business_id</th>\n",
       "      <th>date</th>\n",
       "      <th>review_id</th>\n",
       "      <th>stars</th>\n",
       "      <th>text</th>\n",
       "      <th>type</th>\n",
       "      <th>user_id</th>\n",
       "      <th>cool</th>\n",
       "      <th>useful</th>\n",
       "      <th>funny</th>\n",
       "    </tr>\n",
       "  </thead>\n",
       "  <tbody>\n",
       "    <tr>\n",
       "      <th>0</th>\n",
       "      <td>9yKzy9PApeiPPOUJEtnvkg</td>\n",
       "      <td>2011-01-26</td>\n",
       "      <td>fWKvX83p0-ka4JS3dc6E5A</td>\n",
       "      <td>5</td>\n",
       "      <td>My wife took me here on my birthday for breakf...</td>\n",
       "      <td>review</td>\n",
       "      <td>rLtl8ZkDX5vH5nAx9C3q5Q</td>\n",
       "      <td>2</td>\n",
       "      <td>5</td>\n",
       "      <td>0</td>\n",
       "    </tr>\n",
       "    <tr>\n",
       "      <th>1</th>\n",
       "      <td>ZRJwVLyzEJq1VAihDhYiow</td>\n",
       "      <td>2011-07-27</td>\n",
       "      <td>IjZ33sJrzXqU-0X6U8NwyA</td>\n",
       "      <td>5</td>\n",
       "      <td>I have no idea why some people give bad review...</td>\n",
       "      <td>review</td>\n",
       "      <td>0a2KyEL0d3Yb1V6aivbIuQ</td>\n",
       "      <td>0</td>\n",
       "      <td>0</td>\n",
       "      <td>0</td>\n",
       "    </tr>\n",
       "    <tr>\n",
       "      <th>2</th>\n",
       "      <td>6oRAC4uyJCsJl1X0WZpVSA</td>\n",
       "      <td>2012-06-14</td>\n",
       "      <td>IESLBzqUCLdSzSqm0eCSxQ</td>\n",
       "      <td>4</td>\n",
       "      <td>love the gyro plate. Rice is so good and I als...</td>\n",
       "      <td>review</td>\n",
       "      <td>0hT2KtfLiobPvh6cDC8JQg</td>\n",
       "      <td>0</td>\n",
       "      <td>1</td>\n",
       "      <td>0</td>\n",
       "    </tr>\n",
       "    <tr>\n",
       "      <th>3</th>\n",
       "      <td>_1QQZuf4zZOyFCvXc0o6Vg</td>\n",
       "      <td>2010-05-27</td>\n",
       "      <td>G-WvGaISbqqaMHlNnByodA</td>\n",
       "      <td>5</td>\n",
       "      <td>Rosie, Dakota, and I LOVE Chaparral Dog Park!!...</td>\n",
       "      <td>review</td>\n",
       "      <td>uZetl9T0NcROGOyFfughhg</td>\n",
       "      <td>1</td>\n",
       "      <td>2</td>\n",
       "      <td>0</td>\n",
       "    </tr>\n",
       "    <tr>\n",
       "      <th>4</th>\n",
       "      <td>6ozycU1RpktNG2-1BroVtw</td>\n",
       "      <td>2012-01-05</td>\n",
       "      <td>1uJFq2r5QfJG_6ExMRCaGw</td>\n",
       "      <td>5</td>\n",
       "      <td>General Manager Scott Petello is a good egg!!!...</td>\n",
       "      <td>review</td>\n",
       "      <td>vYmM4KTsC8ZfQBg-j5MWkw</td>\n",
       "      <td>0</td>\n",
       "      <td>0</td>\n",
       "      <td>0</td>\n",
       "    </tr>\n",
       "  </tbody>\n",
       "</table>\n",
       "</div>"
      ],
      "text/plain": [
       "              business_id        date               review_id  stars  \\\n",
       "0  9yKzy9PApeiPPOUJEtnvkg  2011-01-26  fWKvX83p0-ka4JS3dc6E5A      5   \n",
       "1  ZRJwVLyzEJq1VAihDhYiow  2011-07-27  IjZ33sJrzXqU-0X6U8NwyA      5   \n",
       "2  6oRAC4uyJCsJl1X0WZpVSA  2012-06-14  IESLBzqUCLdSzSqm0eCSxQ      4   \n",
       "3  _1QQZuf4zZOyFCvXc0o6Vg  2010-05-27  G-WvGaISbqqaMHlNnByodA      5   \n",
       "4  6ozycU1RpktNG2-1BroVtw  2012-01-05  1uJFq2r5QfJG_6ExMRCaGw      5   \n",
       "\n",
       "                                                text    type  \\\n",
       "0  My wife took me here on my birthday for breakf...  review   \n",
       "1  I have no idea why some people give bad review...  review   \n",
       "2  love the gyro plate. Rice is so good and I als...  review   \n",
       "3  Rosie, Dakota, and I LOVE Chaparral Dog Park!!...  review   \n",
       "4  General Manager Scott Petello is a good egg!!!...  review   \n",
       "\n",
       "                  user_id  cool  useful  funny  \n",
       "0  rLtl8ZkDX5vH5nAx9C3q5Q     2       5      0  \n",
       "1  0a2KyEL0d3Yb1V6aivbIuQ     0       0      0  \n",
       "2  0hT2KtfLiobPvh6cDC8JQg     0       1      0  \n",
       "3  uZetl9T0NcROGOyFfughhg     1       2      0  \n",
       "4  vYmM4KTsC8ZfQBg-j5MWkw     0       0      0  "
      ]
     },
     "execution_count": 89,
     "metadata": {},
     "output_type": "execute_result"
    }
   ],
   "source": [
    "yelp.head()"
   ]
  },
  {
   "cell_type": "code",
   "execution_count": 90,
   "metadata": {},
   "outputs": [
    {
     "data": {
      "text/plain": [
       "'My wife took me here on my birthday for breakfast and it was excellent.  The weather was perfect which made sitting outside overlooking their grounds an absolute pleasure.  Our waitress was excellent and our food arrived quickly on the semi-busy Saturday morning.  It looked like the place fills up pretty quickly so the earlier you get here the better.\\n\\nDo yourself a favor and get their Bloody Mary.  It was phenomenal and simply the best I\\'ve ever had.  I\\'m pretty sure they only use ingredients from their garden and blend them fresh when you order it.  It was amazing.\\n\\nWhile EVERYTHING on the menu looks excellent, I had the white truffle scrambled eggs vegetable skillet and it was tasty and delicious.  It came with 2 pieces of their griddled bread with was amazing and it absolutely made the meal complete.  It was the best \"toast\" I\\'ve ever had.\\n\\nAnyway, I can\\'t wait to go back!'"
      ]
     },
     "execution_count": 90,
     "metadata": {},
     "output_type": "execute_result"
    }
   ],
   "source": [
    "yelp['text'][0]"
   ]
  },
  {
   "cell_type": "code",
   "execution_count": 91,
   "metadata": {},
   "outputs": [],
   "source": [
    "text = yelp['text'][0]"
   ]
  },
  {
   "cell_type": "code",
   "execution_count": 92,
   "metadata": {},
   "outputs": [],
   "source": [
    "blob = TextBlob(text)"
   ]
  },
  {
   "cell_type": "code",
   "execution_count": 95,
   "metadata": {},
   "outputs": [
    {
     "data": {
      "text/plain": [
       "dict_values([2, 1, 1, 1, 2, 3, 1, 1, 1, 8, 9, 8, 3, 10, 1, 1, 1, 2, 1, 1, 1, 4, 1, 1, 1, 1, 2, 1, 1, 1, 2, 1, 1, 1, 1, 1, 1, 1, 1, 2, 1, 1, 2, 2, 1, 1, 1, 1, 1, 1, 1, 1, 1, 2, 5, 2, 2, 3, 1, 1, 1, 1, 1, 1, 1, 1, 1, 1, 1, 1, 1, 2, 1, 1, 1, 1, 1, 1, 1, 1, 1, 1, 1, 1, 1, 2, 1, 1, 1, 1, 1, 1, 1, 1, 1, 1, 1, 1, 1, 1, 1, 1])"
      ]
     },
     "execution_count": 95,
     "metadata": {},
     "output_type": "execute_result"
    }
   ],
   "source": [
    "blob.word_counts.values()"
   ]
  },
  {
   "cell_type": "code",
   "execution_count": 96,
   "metadata": {},
   "outputs": [
    {
     "data": {
      "text/plain": [
       "dict_keys(['my', 'wife', 'took', 'me', 'here', 'on', 'birthday', 'for', 'breakfast', 'and', 'it', 'was', 'excellent', 'the', 'weather', 'perfect', 'which', 'made', 'sitting', 'outside', 'overlooking', 'their', 'grounds', 'an', 'absolute', 'pleasure', 'our', 'waitress', 'food', 'arrived', 'quickly', 'semi-busy', 'saturday', 'morning', 'looked', 'like', 'place', 'fills', 'up', 'pretty', 'so', 'earlier', 'you', 'get', 'better', 'do', 'yourself', 'a', 'favor', 'bloody', 'mary', 'phenomenal', 'simply', 'best', 'i', 've', 'ever', 'had', 'm', 'sure', 'they', 'only', 'use', 'ingredients', 'from', 'garden', 'blend', 'them', 'fresh', 'when', 'order', 'amazing', 'while', 'everything', 'menu', 'looks', 'white', 'truffle', 'scrambled', 'eggs', 'vegetable', 'skillet', 'tasty', 'delicious', 'came', 'with', '2', 'pieces', 'of', 'griddled', 'bread', 'absolutely', 'meal', 'complete', 'toast', 'anyway', 'ca', \"n't\", 'wait', 'to', 'go', 'back'])"
      ]
     },
     "execution_count": 96,
     "metadata": {},
     "output_type": "execute_result"
    }
   ],
   "source": [
    "blob.word_counts.keys()"
   ]
  },
  {
   "cell_type": "code",
   "execution_count": 97,
   "metadata": {},
   "outputs": [
    {
     "data": {
      "text/plain": [
       "[Sentence(\"My wife took me here on my birthday for breakfast and it was excellent.\"),\n",
       " Sentence(\"The weather was perfect which made sitting outside overlooking their grounds an absolute pleasure.\"),\n",
       " Sentence(\"Our waitress was excellent and our food arrived quickly on the semi-busy Saturday morning.\"),\n",
       " Sentence(\"It looked like the place fills up pretty quickly so the earlier you get here the better.\"),\n",
       " Sentence(\"Do yourself a favor and get their Bloody Mary.\"),\n",
       " Sentence(\"It was phenomenal and simply the best I've ever had.\"),\n",
       " Sentence(\"I'm pretty sure they only use ingredients from their garden and blend them fresh when you order it.\"),\n",
       " Sentence(\"It was amazing.\"),\n",
       " Sentence(\"While EVERYTHING on the menu looks excellent, I had the white truffle scrambled eggs vegetable skillet and it was tasty and delicious.\"),\n",
       " Sentence(\"It came with 2 pieces of their griddled bread with was amazing and it absolutely made the meal complete.\"),\n",
       " Sentence(\"It was the best \"toast\" I've ever had.\"),\n",
       " Sentence(\"Anyway, I can't wait to go back!\")]"
      ]
     },
     "execution_count": 97,
     "metadata": {},
     "output_type": "execute_result"
    }
   ],
   "source": [
    "blob.sentences"
   ]
  },
  {
   "cell_type": "code",
   "execution_count": 98,
   "metadata": {},
   "outputs": [
    {
     "data": {
      "text/plain": [
       "Sentiment(polarity=0.40246913580246907, subjectivity=0.6591122868900646)"
      ]
     },
     "execution_count": 98,
     "metadata": {},
     "output_type": "execute_result"
    }
   ],
   "source": [
    "blob.sentiment"
   ]
  },
  {
   "cell_type": "code",
   "execution_count": 105,
   "metadata": {},
   "outputs": [],
   "source": [
    "words = list(blob.word_counts.keys())"
   ]
  },
  {
   "cell_type": "code",
   "execution_count": 106,
   "metadata": {},
   "outputs": [],
   "source": [
    "pos = ['best', 'great', 'loved', 'excellent', 'pleasure', 'phenomenal']\n",
    "neg = ['worst', 'bad', 'hated', 'terrible', 'miserable', 'awful', 'gross']"
   ]
  },
  {
   "cell_type": "code",
   "execution_count": 108,
   "metadata": {},
   "outputs": [],
   "source": [
    "p = 0\n",
    "for word in words:\n",
    "    if word in pos:\n",
    "        p += 1\n",
    "    elif word in neg:\n",
    "        p -= 1\n",
    "    else:\n",
    "        pass"
   ]
  },
  {
   "cell_type": "code",
   "execution_count": 110,
   "metadata": {},
   "outputs": [
    {
     "data": {
      "text/plain": [
       "4"
      ]
     },
     "execution_count": 110,
     "metadata": {},
     "output_type": "execute_result"
    }
   ],
   "source": [
    "p"
   ]
  },
  {
   "cell_type": "markdown",
   "metadata": {},
   "source": [
    "## Record Reviews\n",
    "\n",
    "Now, we want to download some record reviews, and assess the language used."
   ]
  },
  {
   "cell_type": "code",
   "execution_count": 5,
   "metadata": {},
   "outputs": [],
   "source": [
    "import requests\n",
    "from bs4 import BeautifulSoup\n",
    "import spacy"
   ]
  },
  {
   "cell_type": "code",
   "execution_count": 6,
   "metadata": {},
   "outputs": [],
   "source": [
    "url = 'http://maximumrocknroll.com/cat/reviews/'"
   ]
  },
  {
   "cell_type": "code",
   "execution_count": 7,
   "metadata": {},
   "outputs": [],
   "source": [
    "response = requests.get(url)\n",
    "soup = BeautifulSoup(response.text, 'html.parser')"
   ]
  },
  {
   "cell_type": "code",
   "execution_count": 8,
   "metadata": {},
   "outputs": [
    {
     "data": {
      "text/plain": [
       "'http://maximumrocknroll.com/reissue-of-the-week-hex-poison-in-the-system-the-demos-lp/'"
      ]
     },
     "execution_count": 8,
     "metadata": {},
     "output_type": "execute_result"
    }
   ],
   "source": [
    "soup.find('ul', {'class': 'grid'}).a.attrs['href']"
   ]
  },
  {
   "cell_type": "code",
   "execution_count": 9,
   "metadata": {},
   "outputs": [],
   "source": [
    "links = soup.find('ul', {'class': 'grid'}).find_all('a')"
   ]
  },
  {
   "cell_type": "code",
   "execution_count": 10,
   "metadata": {},
   "outputs": [
    {
     "data": {
      "text/plain": [
       "'http://maximumrocknroll.com/reissue-of-the-week-hex-poison-in-the-system-the-demos-lp/'"
      ]
     },
     "execution_count": 10,
     "metadata": {},
     "output_type": "execute_result"
    }
   ],
   "source": [
    "links[0].attrs['href']"
   ]
  },
  {
   "cell_type": "code",
   "execution_count": 11,
   "metadata": {},
   "outputs": [
    {
     "name": "stdout",
     "output_type": "stream",
     "text": [
      "http://maximumrocknroll.com/reissue-of-the-week-hex-poison-in-the-system-the-demos-lp/\n",
      "http://maximumrocknroll.com/record-of-the-week-g-l-o-s-s-girls-living-outside-societys-shit-ep/\n",
      "http://maximumrocknroll.com/reissue-of-the-week-the-hunches/\n",
      "http://maximumrocknroll.com/record-of-the-week-la-misma/\n",
      "http://maximumrocknroll.com/reissue-of-the-week-ebenezer-and-the-bludgeons-peer-pressure-lp/\n",
      "http://maximumrocknroll.com/reissue-of-the-week-eutanasia-sentimiento-de-agitacion-lp/\n",
      "http://maximumrocknroll.com/reissue-of-the-week-bikini-kill-revolution-girl-style-now-lp/\n",
      "http://maximumrocknroll.com/record-of-the-week-aye-nako-the-blackest-eye-ep/\n",
      "http://maximumrocknroll.com/reissue-of-the-week-mercenarias-demo-1983-lp/\n",
      "http://maximumrocknroll.com/record-of-the-week-dan-melchiors-broke-review-lords-of-the-manor-ep/\n",
      "http://maximumrocknroll.com/reissue-of-the-week-disclose/\n",
      "http://maximumrocknroll.com/read-a-book-a-wailing-of-a-town/\n",
      "http://maximumrocknroll.com/reissue-of-the-week-conflict/\n",
      "http://maximumrocknroll.com/record-of-the-week-negative-scanner/\n",
      "http://maximumrocknroll.com/reissue-of-the-week-reatards/\n",
      "http://maximumrocknroll.com/reissue-of-the-week-happy/\n",
      "http://maximumrocknroll.com/record-of-the-week-nervosas/\n",
      "http://maximumrocknroll.com/record-of-the-week-basement-benders/\n",
      "http://maximumrocknroll.com/record-of-the-week-c-c-t-v/\n",
      "http://maximumrocknroll.com/reissue-of-the-week/\n",
      "http://maximumrocknroll.com/record-of-the-week-andy-human-and-the-reptoids/\n",
      "http://maximumrocknroll.com/record-of-the-week-no-form/\n",
      "http://maximumrocknroll.com/reissue-of-the-week-blitzkrieg/\n",
      "http://maximumrocknroll.com/record-of-the-week-power-masters/\n",
      "http://maximumrocknroll.com/reissue-of-the-week-broken-talent/\n",
      "http://maximumrocknroll.com/records-of-the-week-violence-creeps/\n",
      "http://maximumrocknroll.com/record-of-the-week-no/\n",
      "http://maximumrocknroll.com/reissue-of-the-week-dva-minuta-mrzne/\n",
      "http://maximumrocknroll.com/25210/\n",
      "http://maximumrocknroll.com/reissue-of-the-week-tragiedia/\n",
      "http://maximumrocknroll.com/record-of-the-week-gas-chamber/\n",
      "http://maximumrocknroll.com/record-of-the-week-black-time/\n",
      "http://maximumrocknroll.com/reissue-of-the-week-moskwa/\n",
      "http://maximumrocknroll.com/record-of-the-week-flesh-world/\n",
      "http://maximumrocknroll.com/record-of-the-week-slugga/\n",
      "http://maximumrocknroll.com/reissue-of-the-week-flag-of-democracy/\n",
      "http://maximumrocknroll.com/reissue-of-the-week-blast/\n",
      "http://maximumrocknroll.com/record-of-the-day-aquarian-blood/\n",
      "http://maximumrocknroll.com/read-a-book-brooks-headley-on-soy-not-oi/\n",
      "http://maximumrocknroll.com/record-of-the-week-abuse-of-substance-substance-abuse-ep/\n",
      "http://maximumrocknroll.com/record-of-the-week-vlasta-popic-kvadrat-cd/\n",
      "http://maximumrocknroll.com/record-of-the-week-last-sons-of-krypton-teenage-trash-lp-2/\n",
      "http://maximumrocknroll.com/record-of-the-week-gay-kiss-preservation-measures-lp/\n",
      "http://maximumrocknroll.com/record-of-the-week-nature-boys-pissy-windcoast-to-coast-7/\n",
      "http://maximumrocknroll.com/reissue-of-the-week-soberania-personal-benditos-sean-munecos-que-pegan-lp/\n",
      "http://maximumrocknroll.com/records-of-the-week-vatican-dagger-7-rixe-7/\n",
      "http://maximumrocknroll.com/record-of-the-week-kronofogden-arbete-ocheller-fritid-lp/\n",
      "http://maximumrocknroll.com/record-of-the-week-solutions-life-of-joy-12/\n",
      "http://maximumrocknroll.com/record-of-the-week-barcelona-extremo-nihilismo-12/\n",
      "http://maximumrocknroll.com/record-of-the-week-davidians-night-terrorsgimme-all-yo-dope-45/\n",
      "http://maximumrocknroll.com/reissue-of-the-week-pink-section-lp/\n",
      "http://maximumrocknroll.com/record-of-the-week-morkhimmel-lp/\n",
      "http://maximumrocknroll.com/record-of-the-week-mystery-date-new-noir-lp/\n",
      "http://maximumrocknroll.com/record-of-the-week-sierpien-zawsze-nasze-lp/\n",
      "http://maximumrocknroll.com/record-of-the-week-demolition-bombenhagel-cd/\n",
      "http://maximumrocknroll.com/record-of-the-week-neighborhood-brats-recovery-lp/\n",
      "http://maximumrocknroll.com/record-of-the-week-dribble-lovers-7/\n",
      "http://maximumrocknroll.com/record-of-the-week-crime-desire-your-power-lp/\n",
      "http://maximumrocknroll.com/record-of-the-week-young-conservatives-12/\n",
      "http://maximumrocknroll.com/record-of-the-week-boston-strangler-fire-lp/\n",
      "http://maximumrocknroll.com/reissue-of-the-week-alians-gavroche-lp/\n",
      "http://maximumrocknroll.com/record-of-the-week-destruye-y-huye-oscura-sociedad-ep/\n",
      "http://maximumrocknroll.com/record-of-the-week-no-sir-i-wont-shit-12/\n",
      "http://maximumrocknroll.com/record-of-the-week-cadaver-em-transe-lp/\n",
      "http://maximumrocknroll.com/read-a-book-valerie-solanas-the-defiant-life-of-the-woman-who-wrote-scum-and-shot-andy-warhol/\n",
      "http://maximumrocknroll.com/record-of-the-week-copycats-an-idea-died-lp/\n",
      "http://maximumrocknroll.com/reissue-of-the-week-deathwish-tailgate-12/\n",
      "http://maximumrocknroll.com/record-of-the-week-hounds-of-hate-hate-springs-eternal-lp/\n",
      "http://maximumrocknroll.com/record-of-the-week-no-faith-dead-weight-ep/\n",
      "http://maximumrocknroll.com/reissue-of-the-week-x-aspirations-lp/\n",
      "http://maximumrocknroll.com/record-of-the-week-la-flingueornitorrincos-punk-to-cross-borders-split-ep/\n",
      "http://maximumrocknroll.com/reissue-of-the-week-sin-34-do-you-feel-safe-lp/\n",
      "http://maximumrocknroll.com/record-of-the-week-plastic-crimewavespeed-guru-split-ep-book/\n",
      "http://maximumrocknroll.com/record-of-the-week-generacion-suicida-todo-termina-lp/\n",
      "http://maximumrocknroll.com/record-of-the-week-moira-scar-and-low-threat-profile/\n",
      "http://maximumrocknroll.com/record-of-the-week-p-i-g-z-bloody-belgium-ep/\n",
      "http://maximumrocknroll.com/record-of-the-week-grand-collapse-far-from-the-callous-crowd-lp/\n",
      "http://maximumrocknroll.com/record-of-the-week-frau-punk-is-my-boyfriend-ep/\n",
      "http://maximumrocknroll.com/record-of-the-week-ovens-feel-like-shit-ep/\n",
      "http://maximumrocknroll.com/record-of-the-week-protestant-in-thy-name-lp/\n",
      "http://maximumrocknroll.com/record-of-the-week-tercer-mundo-lp/\n",
      "http://maximumrocknroll.com/record-of-the-week-qloaqa-letal-nunca-siempre-lp/\n",
      "http://maximumrocknroll.com/too-smart-for-their-own-sake-torontos-actual-water/\n",
      "http://maximumrocknroll.com/record-of-the-week-contortureahna-split-ep/\n",
      "http://maximumrocknroll.com/record-of-the-week-s-h-i-t-generation-shit-ep/\n",
      "http://maximumrocknroll.com/record-of-the-week-taulard-les-abords-du-lycee-lp/\n",
      "http://maximumrocknroll.com/record-of-the-week-femacoffin-dismal-twilight-ep/\n",
      "http://maximumrocknroll.com/record-of-the-week-dhk-extincion-ep-plus-interview-en-espanol/\n",
      "http://maximumrocknroll.com/record-of-the-week-berlin-tristesse/\n",
      "http://maximumrocknroll.com/record-of-the-week-obediencia-el-angel-exterminador-ep/\n",
      "http://maximumrocknroll.com/record-of-the-week-accidente-amistad-y-rebelion-12/\n",
      "http://maximumrocknroll.com/record-of-the-week-eastlink-lp/\n",
      "http://maximumrocknroll.com/record-of-the-week-suicidas-ep/\n",
      "http://maximumrocknroll.com/secret-prositutes-lp/\n",
      "http://maximumrocknroll.com/record-of-the-week-ross-johnson-and-jeffrey-evans-vanity-session-lp/\n",
      "http://maximumrocknroll.com/record-of-the-week-jailbird-y-ums-ep/\n",
      "http://maximumrocknroll.com/record-of-the-week-rakta-12/\n",
      "http://maximumrocknroll.com/record-of-the-week-negative-standardswhitehorse-split-lp/\n",
      "http://maximumrocknroll.com/record-of-the-week-completed-exposition-lp/\n",
      "http://maximumrocknroll.com/record-of-the-week-hoax-lp/\n",
      "http://maximumrocknroll.com/tam89-4/\n",
      "http://maximumrocknroll.com/records-of-the-week-tam89-3/\n",
      "http://maximumrocknroll.com/record-of-the-week-tam89-2/\n",
      "http://maximumrocknroll.com/record-of-the-week-tam89-1/\n",
      "http://maximumrocknroll.com/record-of-the-week-concrete-cross-lp/\n",
      "http://maximumrocknroll.com/record-of-the-week-the-trashies-teenage-rattlesnakes-lp/\n",
      "http://maximumrocknroll.com/record-of-the-week-diataraxi-koinis-isixias-comp-lp/\n",
      "http://maximumrocknroll.com/record-of-the-week-irreparables-12/\n",
      "http://maximumrocknroll.com/record-of-the-week-amdi-petersens-arme-lp/\n",
      "http://maximumrocknroll.com/from-the-vaults-fertil-miseria-cadenas-ep/\n",
      "http://maximumrocknroll.com/record-of-the-week-abergaz-%c2%ad-minimalizam-megalomanije/\n",
      "http://maximumrocknroll.com/peruvian-punk-documentaries-el-grito-subterraneo-y-lima-explota/\n",
      "http://maximumrocknroll.com/snob-value-whiteout-lp/\n",
      "http://maximumrocknroll.com/record-of-the-future-antimob-lp/\n",
      "http://maximumrocknroll.com/from-the-vaults-drowning-roses/\n",
      "http://maximumrocknroll.com/record-of-the-week-apogee-sound-club/\n",
      "http://maximumrocknroll.com/zine-of-the-week-no-exit-vol-5/\n",
      "http://maximumrocknroll.com/record-of-the-week-brain-killers-3rd-ep/\n",
      "http://maximumrocknroll.com/zine-of-the-week-excitement-level-zero-3/\n",
      "http://maximumrocknroll.com/record-of-the-week-cross-stitched-eyes-decomposition-lp/\n",
      "http://maximumrocknroll.com/zine-of-the-month-rad-party-42/\n",
      "http://maximumrocknroll.com/records-of-the-week-big-eyes-hot-nasties/\n",
      "http://maximumrocknroll.com/from-the-vaults-down-syndrome-ep/\n",
      "http://maximumrocknroll.com/record-of-the-week-nu-kle-er-blast-suntan/\n",
      "http://maximumrocknroll.com/from-the-vaults-gulag-lp/\n",
      "http://maximumrocknroll.com/record-of-the-week-omegas-ny-terminator-ep/\n",
      "http://maximumrocknroll.com/record-of-the-week-rvivr/\n",
      "http://maximumrocknroll.com/cassette-of-the-week-sac-anthology-1999-2004/\n",
      "http://maximumrocknroll.com/from-the-vaults-bread-and-water/\n",
      "http://maximumrocknroll.com/record-of-the-week-armagedomterokal-split-ep/\n",
      "http://maximumrocknroll.com/from-the-vaults-keine-experimente-vol-ii-comp-lp/\n",
      "http://maximumrocknroll.com/record-of-the-week-las-4-bandas-comp-lp/\n",
      "http://maximumrocknroll.com/record-of-the-week-laalts-onanie-ship-cabaret-cd/\n",
      "http://maximumrocknroll.com/come-to-our-show-a-punk-flyer-ebook/\n",
      "http://maximumrocknroll.com/record-of-the-week-gash-cleansing-wave/\n",
      "http://maximumrocknroll.com/white-riot-another-failure/\n",
      "http://maximumrocknroll.com/record-of-the-week-welcome-to-the-arse-end-of-the-world-compilation-lp/\n",
      "http://maximumrocknroll.com/record-of-the-week-john-henry-west-door-bolted-shut-lpcd/\n",
      "http://maximumrocknroll.com/record-of-the-week-sharkpact-ditches-lp/\n",
      "http://maximumrocknroll.com/read-a-book-the-encyclopedia-of-doris/\n",
      "http://maximumrocknroll.com/record-of-the-week-rattus-holokaust-split-ep/\n",
      "http://maximumrocknroll.com/record-of-the-week-royal-headache-lp/\n",
      "http://maximumrocknroll.com/record-of-the-week-star-fucking-hipsters-lp/\n",
      "http://maximumrocknroll.com/record-of-the-week-deathcage-dephosphorus/\n",
      "http://maximumrocknroll.com/record-of-the-week-big-eyes-hard-life-lp/\n",
      "http://maximumrocknroll.com/record-of-the-week-morbo-lp/\n",
      "http://maximumrocknroll.com/record-of-the-week-contra-todos-mis-miedos-colera-ep/\n",
      "http://maximumrocknroll.com/record-of-the-week-isterismo-lp/\n",
      "http://maximumrocknroll.com/record-of-the-week-razorxfade-lp/\n",
      "http://maximumrocknroll.com/record-of-the-week-a-tale-of-rotten-orange/\n"
     ]
    }
   ],
   "source": [
    "for i in links:\n",
    "    print(i.attrs['href'])"
   ]
  },
  {
   "cell_type": "code",
   "execution_count": 12,
   "metadata": {},
   "outputs": [],
   "source": [
    "url = 'http://maximumrocknroll.com/reissue-of-the-week-hex-poison-in-the-system-the-demos-lp/'"
   ]
  },
  {
   "cell_type": "code",
   "execution_count": 13,
   "metadata": {},
   "outputs": [],
   "source": [
    "response = requests.get(url)"
   ]
  },
  {
   "cell_type": "code",
   "execution_count": 14,
   "metadata": {},
   "outputs": [],
   "source": [
    "soup = BeautifulSoup(response.text, 'html.parser')"
   ]
  },
  {
   "cell_type": "code",
   "execution_count": 15,
   "metadata": {},
   "outputs": [
    {
     "data": {
      "text/plain": [
       "<article class=\"wrapper\">\n",
       "<div class=\"column-central\">\n",
       "<h2>Reissue of the Week: HEX <em>Poison In The System: The Demos</em> LP</h2>\n",
       "<ul class=\"meta-list\">\n",
       "<li>\n",
       "<span class=\"meta-key\">Published </span> <span class=\"meta-value\">November 13, 2015</span> <span class=\"meta-key\">By</span> <span class=\"meta-value\">MRR</span>\n",
       "</li>\n",
       "<li>\n",
       "<span class=\"meta-key\">Categories</span>\n",
       "<span class=\"meta-value\">\n",
       "<a href=\"http://maximumrocknroll.com/cat/reviews/\">Reviews</a> </span>\n",
       "</li>\n",
       "</ul>\n",
       "<img alt=\"\" class=\"alignleft\" height=\"318\" src=\"http://images.bigcartel.com/bigcartel/product_images/163074247/max_h-1000+max_w-1000/btrcrs085_snip.JPG\" width=\"306\"/><strong>HEX – “Poison In The System: The Demos” CD</strong><br/>\n",
       "If you liked your punk, the UK in the early to mid ’80s was a good place to be. Not only were all kinds of genres flourishing within said rubric, but there was a significant community of like-minded souls, putting on gigs, writing (and distributing) fanzines, (cassette) tape labels, and whatnot. It meant that bands could (and did!) release demos, on cassette, and distribute them far and wide. The anarcho-punk “scene,” spawned by the likes of CRASS and their progeny (SUBHUMANS, CONFLICT, FLUX OF PINK INDIANS, MOB, et al.) were the inspiration and incubator for HEX. Hailing from the Northeast of England, they were part and parcel of the legendary (well, to us folks, anyways) Sunderland Bunker, a venue, and musicians collective. Herein you’ll find four demos tapes (fourteen tracks in all), recorded in 1986 and 1987. A variety of musical styles, evocative of KILLING JOKE, ANTISECT, and the FAMOUS IMPOSTERS grace the demos. It all features the music gifts of Dickie Hammond and Dave Lainey, better known for playing in HDQ and later LEATHERFACE. Really great stuff all round, and some excellent liner notes do a superb job of capturing the sense of community, and possibility that was nurtured by the scene. (Ramsey Kanaan)<br/>\n",
       "(<a href=\"http://www.bosstuneage.com/\" target=\"_blank\">Boss Tuneage</a>)</div></article>"
      ]
     },
     "execution_count": 15,
     "metadata": {},
     "output_type": "execute_result"
    }
   ],
   "source": [
    "soup.article"
   ]
  },
  {
   "cell_type": "code",
   "execution_count": 16,
   "metadata": {},
   "outputs": [
    {
     "data": {
      "text/plain": [
       "<h2>Reissue of the Week: HEX <em>Poison In The System: The Demos</em> LP</h2>"
      ]
     },
     "execution_count": 16,
     "metadata": {},
     "output_type": "execute_result"
    }
   ],
   "source": [
    "soup.h2"
   ]
  },
  {
   "cell_type": "code",
   "execution_count": 17,
   "metadata": {},
   "outputs": [
    {
     "data": {
      "text/plain": [
       "'\\n\\nReissue of the Week: HEX Poison In The System: The Demos LP\\n\\n\\nPublished  November 13, 2015 By MRR\\n\\n\\nCategories\\n\\nReviews \\n\\n\\nHEX – “Poison In The System: The Demos” CD\\nIf you liked your punk, the UK in the early to mid ’80s was a good place to be. Not only were all kinds of genres flourishing within said rubric, but there was a significant community of like-minded souls, putting on gigs, writing (and distributing) fanzines, (cassette) tape labels, and whatnot. It meant that bands could (and did!) release demos, on cassette, and distribute them far and wide. The anarcho-punk “scene,” spawned by the likes of CRASS and their progeny (SUBHUMANS, CONFLICT, FLUX OF PINK INDIANS, MOB, et al.) were the inspiration and incubator for HEX. Hailing from the Northeast of England, they were part and parcel of the legendary (well, to us folks, anyways) Sunderland Bunker, a venue, and musicians collective. Herein you’ll find four demos tapes (fourteen tracks in all), recorded in 1986 and 1987. A variety of musical styles, evocative of KILLING JOKE, ANTISECT, and the FAMOUS IMPOSTERS grace the demos. It all features the music gifts of Dickie Hammond and Dave Lainey, better known for playing in HDQ and later LEATHERFACE. Really great stuff all round, and some excellent liner notes do a superb job of capturing the sense of community, and possibility that was nurtured by the scene. (Ramsey Kanaan)\\n(Boss Tuneage)'"
      ]
     },
     "execution_count": 17,
     "metadata": {},
     "output_type": "execute_result"
    }
   ],
   "source": [
    "soup.article.text"
   ]
  },
  {
   "cell_type": "code",
   "execution_count": 18,
   "metadata": {},
   "outputs": [],
   "source": [
    "url = 'http://maximumrocknroll.com/cat/reviews/'\n",
    "response = requests.get(url)\n",
    "soup = BeautifulSoup(response.text, 'html.parser')\n",
    "links = soup.find('ul', {'class': 'grid'}).find_all('a')\n",
    "review = []\n",
    "title = []\n",
    "for i in links:\n",
    "    req = requests.get(i.attrs['href'])\n",
    "    s = BeautifulSoup(req.text, 'html.parser')\n",
    "    review.append(s.article.text)\n",
    "    title.append(s.h2.text)"
   ]
  },
  {
   "cell_type": "code",
   "execution_count": 19,
   "metadata": {},
   "outputs": [],
   "source": [
    "import pandas as pd\n",
    "reviews = pd.DataFrame({'album': title, 'review': review})"
   ]
  },
  {
   "cell_type": "code",
   "execution_count": 20,
   "metadata": {},
   "outputs": [
    {
     "data": {
      "text/html": [
       "<div>\n",
       "<style scoped>\n",
       "    .dataframe tbody tr th:only-of-type {\n",
       "        vertical-align: middle;\n",
       "    }\n",
       "\n",
       "    .dataframe tbody tr th {\n",
       "        vertical-align: top;\n",
       "    }\n",
       "\n",
       "    .dataframe thead th {\n",
       "        text-align: right;\n",
       "    }\n",
       "</style>\n",
       "<table border=\"1\" class=\"dataframe\">\n",
       "  <thead>\n",
       "    <tr style=\"text-align: right;\">\n",
       "      <th></th>\n",
       "      <th>album</th>\n",
       "      <th>review</th>\n",
       "    </tr>\n",
       "  </thead>\n",
       "  <tbody>\n",
       "    <tr>\n",
       "      <th>0</th>\n",
       "      <td>Reissue of the Week: HEX Poison In The System:...</td>\n",
       "      <td>\\n\\nReissue of the Week: HEX Poison In The Sys...</td>\n",
       "    </tr>\n",
       "    <tr>\n",
       "      <th>1</th>\n",
       "      <td>Record of the Week: G.L.O.S.S. Girls Living Ou...</td>\n",
       "      <td>\\n\\nRecord of the Week: G.L.O.S.S. Girls Livin...</td>\n",
       "    </tr>\n",
       "    <tr>\n",
       "      <th>2</th>\n",
       "      <td>Reissue of the Week: The Hunches</td>\n",
       "      <td>\\n\\nReissue of the Week: The Hunches\\n\\n\\nPubl...</td>\n",
       "    </tr>\n",
       "    <tr>\n",
       "      <th>3</th>\n",
       "      <td>Record of the Week: La Misma</td>\n",
       "      <td>\\n\\nRecord of the Week: La Misma\\n\\n\\nPublishe...</td>\n",
       "    </tr>\n",
       "    <tr>\n",
       "      <th>4</th>\n",
       "      <td>Reissue of the Week: EBENEZER AND THE BLUDGEON...</td>\n",
       "      <td>\\n\\nReissue of the Week: EBENEZER AND THE BLUD...</td>\n",
       "    </tr>\n",
       "  </tbody>\n",
       "</table>\n",
       "</div>"
      ],
      "text/plain": [
       "                                               album  \\\n",
       "0  Reissue of the Week: HEX Poison In The System:...   \n",
       "1  Record of the Week: G.L.O.S.S. Girls Living Ou...   \n",
       "2                   Reissue of the Week: The Hunches   \n",
       "3                       Record of the Week: La Misma   \n",
       "4  Reissue of the Week: EBENEZER AND THE BLUDGEON...   \n",
       "\n",
       "                                              review  \n",
       "0  \\n\\nReissue of the Week: HEX Poison In The Sys...  \n",
       "1  \\n\\nRecord of the Week: G.L.O.S.S. Girls Livin...  \n",
       "2  \\n\\nReissue of the Week: The Hunches\\n\\n\\nPubl...  \n",
       "3  \\n\\nRecord of the Week: La Misma\\n\\n\\nPublishe...  \n",
       "4  \\n\\nReissue of the Week: EBENEZER AND THE BLUD...  "
      ]
     },
     "execution_count": 20,
     "metadata": {},
     "output_type": "execute_result"
    }
   ],
   "source": [
    "reviews.head()"
   ]
  },
  {
   "cell_type": "code",
   "execution_count": 21,
   "metadata": {},
   "outputs": [
    {
     "data": {
      "text/plain": [
       "(150, 2)"
      ]
     },
     "execution_count": 21,
     "metadata": {},
     "output_type": "execute_result"
    }
   ],
   "source": [
    "reviews.shape"
   ]
  },
  {
   "cell_type": "code",
   "execution_count": 22,
   "metadata": {},
   "outputs": [
    {
     "data": {
      "text/plain": [
       "'\\n\\nReissue of the Week: HEX Poison In The System: The Demos LP\\n\\n\\nPublished  November 13, 2015 By MRR\\n\\n\\nCategories\\n\\nReviews \\n\\n\\nHEX – “Poison In The System: The Demos” CD\\nIf you liked your punk, the UK in the early to mid ’80s was a good place to be. Not only were all kinds of genres flourishing within said rubric, but there was a significant community of like-minded souls, putting on gigs, writing (and distributing) fanzines, (cassette) tape labels, and whatnot. It meant that bands could (and did!) release demos, on cassette, and distribute them far and wide. The anarcho-punk “scene,” spawned by the likes of CRASS and their progeny (SUBHUMANS, CONFLICT, FLUX OF PINK INDIANS, MOB, et al.) were the inspiration and incubator for HEX. Hailing from the Northeast of England, they were part and parcel of the legendary (well, to us folks, anyways) Sunderland Bunker, a venue, and musicians collective. Herein you’ll find four demos tapes (fourteen tracks in all), recorded in 1986 and 1987. A variety of musical styles, evocative of KILLING JOKE, ANTISECT, and the FAMOUS IMPOSTERS grace the demos. It all features the music gifts of Dickie Hammond and Dave Lainey, better known for playing in HDQ and later LEATHERFACE. Really great stuff all round, and some excellent liner notes do a superb job of capturing the sense of community, and possibility that was nurtured by the scene. (Ramsey Kanaan)\\n(Boss Tuneage)'"
      ]
     },
     "execution_count": 22,
     "metadata": {},
     "output_type": "execute_result"
    }
   ],
   "source": [
    "reviews.review[0]"
   ]
  },
  {
   "cell_type": "code",
   "execution_count": 23,
   "metadata": {},
   "outputs": [],
   "source": [
    "from textblob import TextBlob"
   ]
  },
  {
   "cell_type": "code",
   "execution_count": 24,
   "metadata": {},
   "outputs": [],
   "source": [
    "reviews.to_csv('mrr_reviews.csv')"
   ]
  },
  {
   "cell_type": "code",
   "execution_count": null,
   "metadata": {},
   "outputs": [],
   "source": [
    "import pandas as pd\n",
    "reviews = pd.read_csv('mrr_reviews.csv')"
   ]
  },
  {
   "cell_type": "code",
   "execution_count": 25,
   "metadata": {},
   "outputs": [],
   "source": [
    "text = TextBlob(reviews.review[0])"
   ]
  },
  {
   "cell_type": "code",
   "execution_count": 26,
   "metadata": {},
   "outputs": [
    {
     "data": {
      "text/plain": [
       "[Sentence(\"\n",
       " \n",
       " Reissue of the Week: HEX Poison In The System: The Demos LP\n",
       " \n",
       " \n",
       " Published  November 13, 2015 By MRR\n",
       " \n",
       " \n",
       " Categories\n",
       " \n",
       " Reviews \n",
       " \n",
       " \n",
       " HEX – “Poison In The System: The Demos” CD\n",
       " If you liked your punk, the UK in the early to mid ’80s was a good place to be.\"),\n",
       " Sentence(\"Not only were all kinds of genres flourishing within said rubric, but there was a significant community of like-minded souls, putting on gigs, writing (and distributing) fanzines, (cassette) tape labels, and whatnot.\"),\n",
       " Sentence(\"It meant that bands could (and did!)\"),\n",
       " Sentence(\"release demos, on cassette, and distribute them far and wide.\"),\n",
       " Sentence(\"The anarcho-punk “scene,” spawned by the likes of CRASS and their progeny (SUBHUMANS, CONFLICT, FLUX OF PINK INDIANS, MOB, et al.)\"),\n",
       " Sentence(\"were the inspiration and incubator for HEX.\"),\n",
       " Sentence(\"Hailing from the Northeast of England, they were part and parcel of the legendary (well, to us folks, anyways) Sunderland Bunker, a venue, and musicians collective.\"),\n",
       " Sentence(\"Herein you’ll find four demos tapes (fourteen tracks in all), recorded in 1986 and 1987.\"),\n",
       " Sentence(\"A variety of musical styles, evocative of KILLING JOKE, ANTISECT, and the FAMOUS IMPOSTERS grace the demos.\"),\n",
       " Sentence(\"It all features the music gifts of Dickie Hammond and Dave Lainey, better known for playing in HDQ and later LEATHERFACE.\"),\n",
       " Sentence(\"Really great stuff all round, and some excellent liner notes do a superb job of capturing the sense of community, and possibility that was nurtured by the scene.\"),\n",
       " Sentence(\"(Ramsey Kanaan)\n",
       " (Boss Tuneage)\")]"
      ]
     },
     "execution_count": 26,
     "metadata": {},
     "output_type": "execute_result"
    }
   ],
   "source": [
    "text.sentences"
   ]
  },
  {
   "cell_type": "code",
   "execution_count": 27,
   "metadata": {},
   "outputs": [
    {
     "data": {
      "text/plain": [
       "Sentiment(polarity=0.3538194444444444, subjectivity=0.6069444444444445)"
      ]
     },
     "execution_count": 27,
     "metadata": {},
     "output_type": "execute_result"
    }
   ],
   "source": [
    "text.sentiment"
   ]
  },
  {
   "cell_type": "code",
   "execution_count": 28,
   "metadata": {},
   "outputs": [
    {
     "data": {
      "text/plain": [
       "0.6069444444444445"
      ]
     },
     "execution_count": 28,
     "metadata": {},
     "output_type": "execute_result"
    }
   ],
   "source": [
    "text.subjectivity"
   ]
  },
  {
   "cell_type": "code",
   "execution_count": 29,
   "metadata": {},
   "outputs": [
    {
     "data": {
      "text/plain": [
       "0.3538194444444444"
      ]
     },
     "execution_count": 29,
     "metadata": {},
     "output_type": "execute_result"
    }
   ],
   "source": [
    "text.polarity"
   ]
  },
  {
   "cell_type": "code",
   "execution_count": 31,
   "metadata": {},
   "outputs": [],
   "source": [
    "pol = []\n",
    "subj = []\n",
    "for i in reviews.review:\n",
    "    text = TextBlob(i)\n",
    "    pol.append(text.sentiment.polarity)\n",
    "    subj.append(text.sentiment.subjectivity)"
   ]
  },
  {
   "cell_type": "code",
   "execution_count": 32,
   "metadata": {},
   "outputs": [],
   "source": [
    "reviews['polarity'] = pol\n",
    "reviews['subjectivity'] = subj"
   ]
  },
  {
   "cell_type": "code",
   "execution_count": 126,
   "metadata": {},
   "outputs": [
    {
     "data": {
      "text/html": [
       "<div>\n",
       "<style scoped>\n",
       "    .dataframe tbody tr th:only-of-type {\n",
       "        vertical-align: middle;\n",
       "    }\n",
       "\n",
       "    .dataframe tbody tr th {\n",
       "        vertical-align: top;\n",
       "    }\n",
       "\n",
       "    .dataframe thead th {\n",
       "        text-align: right;\n",
       "    }\n",
       "</style>\n",
       "<table border=\"1\" class=\"dataframe\">\n",
       "  <thead>\n",
       "    <tr style=\"text-align: right;\">\n",
       "      <th></th>\n",
       "      <th>album</th>\n",
       "      <th>review</th>\n",
       "      <th>polarity</th>\n",
       "      <th>subjectivity</th>\n",
       "    </tr>\n",
       "  </thead>\n",
       "  <tbody>\n",
       "    <tr>\n",
       "      <th>0</th>\n",
       "      <td>Reissue of the Week: HEX Poison In The System:...</td>\n",
       "      <td>\\n\\nReissue of the Week: HEX Poison In The Sys...</td>\n",
       "      <td>0.353819</td>\n",
       "      <td>0.606944</td>\n",
       "    </tr>\n",
       "    <tr>\n",
       "      <th>1</th>\n",
       "      <td>Record of the Week: G.L.O.S.S. Girls Living Ou...</td>\n",
       "      <td>\\n\\nRecord of the Week: G.L.O.S.S. Girls Livin...</td>\n",
       "      <td>0.087500</td>\n",
       "      <td>0.594318</td>\n",
       "    </tr>\n",
       "    <tr>\n",
       "      <th>2</th>\n",
       "      <td>Reissue of the Week: The Hunches</td>\n",
       "      <td>\\n\\nReissue of the Week: The Hunches\\n\\n\\nPubl...</td>\n",
       "      <td>0.079167</td>\n",
       "      <td>0.490625</td>\n",
       "    </tr>\n",
       "    <tr>\n",
       "      <th>3</th>\n",
       "      <td>Record of the Week: La Misma</td>\n",
       "      <td>\\n\\nRecord of the Week: La Misma\\n\\n\\nPublishe...</td>\n",
       "      <td>0.077406</td>\n",
       "      <td>0.480249</td>\n",
       "    </tr>\n",
       "    <tr>\n",
       "      <th>4</th>\n",
       "      <td>Reissue of the Week: EBENEZER AND THE BLUDGEON...</td>\n",
       "      <td>\\n\\nReissue of the Week: EBENEZER AND THE BLUD...</td>\n",
       "      <td>0.164881</td>\n",
       "      <td>0.576786</td>\n",
       "    </tr>\n",
       "  </tbody>\n",
       "</table>\n",
       "</div>"
      ],
      "text/plain": [
       "                                               album  \\\n",
       "0  Reissue of the Week: HEX Poison In The System:...   \n",
       "1  Record of the Week: G.L.O.S.S. Girls Living Ou...   \n",
       "2                   Reissue of the Week: The Hunches   \n",
       "3                       Record of the Week: La Misma   \n",
       "4  Reissue of the Week: EBENEZER AND THE BLUDGEON...   \n",
       "\n",
       "                                              review  polarity  subjectivity  \n",
       "0  \\n\\nReissue of the Week: HEX Poison In The Sys...  0.353819      0.606944  \n",
       "1  \\n\\nRecord of the Week: G.L.O.S.S. Girls Livin...  0.087500      0.594318  \n",
       "2  \\n\\nReissue of the Week: The Hunches\\n\\n\\nPubl...  0.079167      0.490625  \n",
       "3  \\n\\nRecord of the Week: La Misma\\n\\n\\nPublishe...  0.077406      0.480249  \n",
       "4  \\n\\nReissue of the Week: EBENEZER AND THE BLUD...  0.164881      0.576786  "
      ]
     },
     "execution_count": 126,
     "metadata": {},
     "output_type": "execute_result"
    }
   ],
   "source": [
    "reviews.head()"
   ]
  },
  {
   "cell_type": "code",
   "execution_count": 128,
   "metadata": {},
   "outputs": [
    {
     "data": {
      "text/plain": [
       "76    Record of the Week: GRAND COLLAPSE Far From th...\n",
       "0     Reissue of the Week: HEX Poison In The System:...\n",
       "92    Record of the Week: SUICIDAS No Nos Mata la Mu...\n",
       "26                               Record of the Week: NO\n",
       "63             Record of the Week: CADAVER EM TRANSE LP\n",
       "Name: album, dtype: object"
      ]
     },
     "execution_count": 128,
     "metadata": {},
     "output_type": "execute_result"
    }
   ],
   "source": [
    "reviews.nlargest(5, 'polarity')['album']"
   ]
  },
  {
   "cell_type": "code",
   "execution_count": 129,
   "metadata": {},
   "outputs": [
    {
     "data": {
      "text/plain": [
       "<matplotlib.collections.PathCollection at 0x11742c0f0>"
      ]
     },
     "execution_count": 129,
     "metadata": {},
     "output_type": "execute_result"
    },
    {
     "data": {
      "image/png": "[encoded data removed]",
      "text/plain": [
       "<matplotlib.figure.Figure at 0x114551390>"
      ]
     },
     "metadata": {},
     "output_type": "display_data"
    }
   ],
   "source": [
    "import matplotlib.pyplot as plt\n",
    "%matplotlib inline\n",
    "plt.scatter(reviews.polarity, reviews.subjectivity)"
   ]
  },
  {
   "cell_type": "code",
   "execution_count": 130,
   "metadata": {},
   "outputs": [
    {
     "data": {
      "text/plain": [
       "<matplotlib.axes._subplots.AxesSubplot at 0x117448128>"
      ]
     },
     "execution_count": 130,
     "metadata": {},
     "output_type": "execute_result"
    },
    {
     "data": {
      "image/png": "[encoded data removed]",
      "text/plain": [
       "<matplotlib.figure.Figure at 0x11b6538d0>"
      ]
     },
     "metadata": {},
     "output_type": "display_data"
    }
   ],
   "source": [
    "reviews['polarity'].hist()"
   ]
  },
  {
   "cell_type": "code",
   "execution_count": 131,
   "metadata": {},
   "outputs": [
    {
     "data": {
      "text/html": [
       "<div>\n",
       "<style scoped>\n",
       "    .dataframe tbody tr th:only-of-type {\n",
       "        vertical-align: middle;\n",
       "    }\n",
       "\n",
       "    .dataframe tbody tr th {\n",
       "        vertical-align: top;\n",
       "    }\n",
       "\n",
       "    .dataframe thead th {\n",
       "        text-align: right;\n",
       "    }\n",
       "</style>\n",
       "<table border=\"1\" class=\"dataframe\">\n",
       "  <thead>\n",
       "    <tr style=\"text-align: right;\">\n",
       "      <th></th>\n",
       "      <th>album</th>\n",
       "      <th>review</th>\n",
       "      <th>polarity</th>\n",
       "      <th>subjectivity</th>\n",
       "    </tr>\n",
       "  </thead>\n",
       "  <tbody>\n",
       "    <tr>\n",
       "      <th>5</th>\n",
       "      <td>Reissue of the Week: EUTANASIA Sentimiento de ...</td>\n",
       "      <td>\\n\\nReissue of the Week: EUTANASIA Sentimiento...</td>\n",
       "      <td>-0.151726</td>\n",
       "      <td>0.486785</td>\n",
       "    </tr>\n",
       "    <tr>\n",
       "      <th>18</th>\n",
       "      <td>Record of the Week: C.C.T.V</td>\n",
       "      <td>\\n\\nRecord of the Week: C.C.T.V\\n\\n\\nPublished...</td>\n",
       "      <td>-0.013326</td>\n",
       "      <td>0.536119</td>\n",
       "    </tr>\n",
       "    <tr>\n",
       "      <th>23</th>\n",
       "      <td>Record of the Week: Power Masters</td>\n",
       "      <td>\\n\\nRecord of the Week: Power Masters\\n\\n\\nPub...</td>\n",
       "      <td>-0.003134</td>\n",
       "      <td>0.450889</td>\n",
       "    </tr>\n",
       "    <tr>\n",
       "      <th>34</th>\n",
       "      <td>Record of the Week: Slugga</td>\n",
       "      <td>\\n\\nRecord of the Week: Slugga\\n\\n\\nPublished ...</td>\n",
       "      <td>-0.124157</td>\n",
       "      <td>0.619246</td>\n",
       "    </tr>\n",
       "    <tr>\n",
       "      <th>36</th>\n",
       "      <td>Reissue of the Week: Blast</td>\n",
       "      <td>\\n\\nReissue of the Week: Blast\\n\\n\\nPublished ...</td>\n",
       "      <td>-0.161497</td>\n",
       "      <td>0.509273</td>\n",
       "    </tr>\n",
       "    <tr>\n",
       "      <th>37</th>\n",
       "      <td>Record of the Week: Aquarian Blood</td>\n",
       "      <td>\\n\\nRecord of the Week: Aquarian Blood\\n\\n\\nPu...</td>\n",
       "      <td>-0.109696</td>\n",
       "      <td>0.585671</td>\n",
       "    </tr>\n",
       "    <tr>\n",
       "      <th>45</th>\n",
       "      <td>Records of the Week: VATICAN DAGGER 7″ &amp; RIXE 7″</td>\n",
       "      <td>\\n\\nRecords of the Week: VATICAN DAGGER 7″ &amp; R...</td>\n",
       "      <td>-0.093889</td>\n",
       "      <td>0.595000</td>\n",
       "    </tr>\n",
       "    <tr>\n",
       "      <th>51</th>\n",
       "      <td>Record of the Week: MÖRKHIMMEL Ostří Černé Kos...</td>\n",
       "      <td>\\n\\nRecord of the Week: MÖRKHIMMEL Ostří Černé...</td>\n",
       "      <td>-0.007875</td>\n",
       "      <td>0.677289</td>\n",
       "    </tr>\n",
       "    <tr>\n",
       "      <th>74</th>\n",
       "      <td>Records of the Week: MOIRA SCAR and LOW THREAT...</td>\n",
       "      <td>\\n\\nRecords of the Week: MOIRA SCAR and LOW TH...</td>\n",
       "      <td>-0.000278</td>\n",
       "      <td>0.517091</td>\n",
       "    </tr>\n",
       "    <tr>\n",
       "      <th>123</th>\n",
       "      <td>Record of the Week: NÜ-KLĒ-ER BLAST SUNTAN The...</td>\n",
       "      <td>\\n\\nRecord of the Week: NÜ-KLĒ-ER BLAST SUNTAN...</td>\n",
       "      <td>-0.171051</td>\n",
       "      <td>0.638190</td>\n",
       "    </tr>\n",
       "  </tbody>\n",
       "</table>\n",
       "</div>"
      ],
      "text/plain": [
       "                                                 album  \\\n",
       "5    Reissue of the Week: EUTANASIA Sentimiento de ...   \n",
       "18                         Record of the Week: C.C.T.V   \n",
       "23                   Record of the Week: Power Masters   \n",
       "34                          Record of the Week: Slugga   \n",
       "36                          Reissue of the Week: Blast   \n",
       "37                  Record of the Week: Aquarian Blood   \n",
       "45    Records of the Week: VATICAN DAGGER 7″ & RIXE 7″   \n",
       "51   Record of the Week: MÖRKHIMMEL Ostří Černé Kos...   \n",
       "74   Records of the Week: MOIRA SCAR and LOW THREAT...   \n",
       "123  Record of the Week: NÜ-KLĒ-ER BLAST SUNTAN The...   \n",
       "\n",
       "                                                review  polarity  subjectivity  \n",
       "5    \\n\\nReissue of the Week: EUTANASIA Sentimiento... -0.151726      0.486785  \n",
       "18   \\n\\nRecord of the Week: C.C.T.V\\n\\n\\nPublished... -0.013326      0.536119  \n",
       "23   \\n\\nRecord of the Week: Power Masters\\n\\n\\nPub... -0.003134      0.450889  \n",
       "34   \\n\\nRecord of the Week: Slugga\\n\\n\\nPublished ... -0.124157      0.619246  \n",
       "36   \\n\\nReissue of the Week: Blast\\n\\n\\nPublished ... -0.161497      0.509273  \n",
       "37   \\n\\nRecord of the Week: Aquarian Blood\\n\\n\\nPu... -0.109696      0.585671  \n",
       "45   \\n\\nRecords of the Week: VATICAN DAGGER 7″ & R... -0.093889      0.595000  \n",
       "51   \\n\\nRecord of the Week: MÖRKHIMMEL Ostří Černé... -0.007875      0.677289  \n",
       "74   \\n\\nRecords of the Week: MOIRA SCAR and LOW TH... -0.000278      0.517091  \n",
       "123  \\n\\nRecord of the Week: NÜ-KLĒ-ER BLAST SUNTAN... -0.171051      0.638190  "
      ]
     },
     "execution_count": 131,
     "metadata": {},
     "output_type": "execute_result"
    }
   ],
   "source": [
    "reviews[reviews['polarity'] < 0]"
   ]
  },
  {
   "cell_type": "code",
   "execution_count": 134,
   "metadata": {},
   "outputs": [
    {
     "data": {
      "text/plain": [
       "'\\n\\nRecord of the Week: Slugga\\n\\n\\nPublished  June 17, 2015 By Greg\\n\\n\\nCategories\\n\\nReviews \\n\\n\\nSLUGGA – “Parasite/Shaved Heads”\\nThis record rules. Stupid, short and direct. “Parasite” is so fucking catchy and punk and perfect. I think my only complaint is their singer sounds a little like Lumpy (of the DUMPERS), but that’s not a big complaint. All that aside, the fucking song is an instant classic and I won’t be surprised when it’s featured on Killed By Death #125 in 2053. “Shaved Heads” slows down just barely and it’s the perfect song for an idiotic creepy crawl through a stupid fucking basement show. Sloppy, but not too sloppy, punk…the kind of shit you wanna hear first thing in the morning before you spend the day punching fuckheads in the face. (Greg Harvester)\\n(Total Punk)\\n\\xa0\\n\\n\\n'"
      ]
     },
     "execution_count": 134,
     "metadata": {},
     "output_type": "execute_result"
    }
   ],
   "source": [
    "reviews.iloc[34]['review']"
   ]
  },
  {
   "cell_type": "code",
   "execution_count": 135,
   "metadata": {},
   "outputs": [
    {
     "data": {
      "text/plain": [
       "0.11952482409853642"
      ]
     },
     "execution_count": 135,
     "metadata": {},
     "output_type": "execute_result"
    }
   ],
   "source": [
    "reviews.polarity.mean()"
   ]
  },
  {
   "cell_type": "code",
   "execution_count": 136,
   "metadata": {},
   "outputs": [
    {
     "data": {
      "text/plain": [
       "0.5093821719063856"
      ]
     },
     "execution_count": 136,
     "metadata": {},
     "output_type": "execute_result"
    }
   ],
   "source": [
    "reviews.subjectivity.mean()"
   ]
  },
  {
   "cell_type": "code",
   "execution_count": 37,
   "metadata": {},
   "outputs": [
    {
     "data": {
      "text/plain": [
       "defaultdict(int,\n",
       "            {'2007': 1,\n",
       "             '2015': 1,\n",
       "             '30': 1,\n",
       "             'a': 13,\n",
       "             'about': 1,\n",
       "             'after': 1,\n",
       "             'ambivalent': 1,\n",
       "             'an': 1,\n",
       "             'and': 7,\n",
       "             'any': 1,\n",
       "             'anything': 1,\n",
       "             'are': 5,\n",
       "             'as': 5,\n",
       "             'assault': 1,\n",
       "             'attempt': 1,\n",
       "             'attentive': 1,\n",
       "             'beat': 1,\n",
       "             'because': 1,\n",
       "             'before': 1,\n",
       "             'being': 1,\n",
       "             'best': 1,\n",
       "             'brain': 1,\n",
       "             'but': 1,\n",
       "             'by': 2,\n",
       "             'called': 1,\n",
       "             'can': 1,\n",
       "             'care': 1,\n",
       "             'casts': 1,\n",
       "             'categories': 1,\n",
       "             'chaos': 1,\n",
       "             'closing': 1,\n",
       "             'commitment': 1,\n",
       "             'comparably': 1,\n",
       "             'compelling': 1,\n",
       "             'conclusion': 1,\n",
       "             'considering': 1,\n",
       "             'context': 2,\n",
       "             'continued': 1,\n",
       "             'course': 1,\n",
       "             'cynical': 1,\n",
       "             'd-beat': 1,\n",
       "             'damn': 1,\n",
       "             'death': 1,\n",
       "             'decade': 1,\n",
       "             'despite': 1,\n",
       "             'different': 1,\n",
       "             'disbones': 1,\n",
       "             'discharge-worship': 1,\n",
       "             'disclose': 7,\n",
       "             'disengagement': 1,\n",
       "             'doggedly': 1,\n",
       "             'enduring': 1,\n",
       "             'energy': 1,\n",
       "             'epilogue': 1,\n",
       "             'era': 1,\n",
       "             'es': 1,\n",
       "             'especially': 1,\n",
       "             'even': 1,\n",
       "             'evident': 1,\n",
       "             'experience': 1,\n",
       "             'fairytale': 2,\n",
       "             'far': 2,\n",
       "             'final': 1,\n",
       "             'foggy': 1,\n",
       "             'for': 3,\n",
       "             'forest': 2,\n",
       "             'forever': 1,\n",
       "             'forsaking': 1,\n",
       "             'found': 1,\n",
       "             'framtid': 1,\n",
       "             'friend': 1,\n",
       "             'from': 2,\n",
       "             'fucking': 1,\n",
       "             'fuzzed-out': 1,\n",
       "             'going': 1,\n",
       "             'grounded': 1,\n",
       "             'guitar': 1,\n",
       "             'here': 3,\n",
       "             'him': 3,\n",
       "             'his': 3,\n",
       "             'human': 1,\n",
       "             'hypnotic': 1,\n",
       "             'i': 2,\n",
       "             'ignore': 1,\n",
       "             'ill-fated': 1,\n",
       "             'immediately': 1,\n",
       "             'in': 7,\n",
       "             'increasingly': 1,\n",
       "             'inertial': 1,\n",
       "             'influence': 1,\n",
       "             'insightful': 1,\n",
       "             'irreducible': 1,\n",
       "             'is': 8,\n",
       "             'it': 3,\n",
       "             'its': 2,\n",
       "             'itself': 1,\n",
       "             'just': 2,\n",
       "             'kawakami': 6,\n",
       "             'knew': 1,\n",
       "             'la': 1,\n",
       "             'later': 1,\n",
       "             'legacy': 1,\n",
       "             'legend': 1,\n",
       "             'less': 1,\n",
       "             'like': 1,\n",
       "             'liner': 1,\n",
       "             'listened': 1,\n",
       "             'listeners': 1,\n",
       "             'lives': 1,\n",
       "             'logical': 1,\n",
       "             'look': 1,\n",
       "             'loose': 1,\n",
       "             'lp': 2,\n",
       "             'majority': 1,\n",
       "             'metallic': 1,\n",
       "             'might': 1,\n",
       "             'mindful': 1,\n",
       "             'missing': 1,\n",
       "             'monumental': 1,\n",
       "             'more': 4,\n",
       "             'mother': 1,\n",
       "             'mrr': 1,\n",
       "             'much': 2,\n",
       "             'mus': 1,\n",
       "             'music': 1,\n",
       "             'muster': 1,\n",
       "             'mythos': 1,\n",
       "             'nearly': 1,\n",
       "             'neither': 1,\n",
       "             'new': 1,\n",
       "             'nightmare': 1,\n",
       "             'noise': 1,\n",
       "             'nor': 1,\n",
       "             'not': 4,\n",
       "             'notes': 2,\n",
       "             'nuanced': 1,\n",
       "             'of': 9,\n",
       "             'on': 1,\n",
       "             'opinion': 1,\n",
       "             'opus': 1,\n",
       "             'or': 1,\n",
       "             'other': 1,\n",
       "             'out': 1,\n",
       "             'over': 1,\n",
       "             'pall': 1,\n",
       "             'palliative': 1,\n",
       "             'particularly': 1,\n",
       "             'passing': 1,\n",
       "             'perceptions': 1,\n",
       "             'perpetual': 1,\n",
       "             'personal': 1,\n",
       "             'pinnacle': 1,\n",
       "             'place': 1,\n",
       "             'point': 1,\n",
       "             'potential': 1,\n",
       "             'primarily': 1,\n",
       "             'psychedelic': 1,\n",
       "             'published': 1,\n",
       "             'raw': 1,\n",
       "             'read': 1,\n",
       "             'record': 3,\n",
       "             'reflective': 1,\n",
       "             'reissue': 2,\n",
       "             'released': 1,\n",
       "             'relevant': 1,\n",
       "             'remains': 1,\n",
       "             'respect': 1,\n",
       "             'reviews': 1,\n",
       "             'riffs': 1,\n",
       "             'rip': 1,\n",
       "             'romantic': 1,\n",
       "             'royalties': 1,\n",
       "             's': 8,\n",
       "             'saw': 1,\n",
       "             'schrader': 4,\n",
       "             'seem': 1,\n",
       "             'september': 1,\n",
       "             'set': 1,\n",
       "             'shit': 1,\n",
       "             'showing': 1,\n",
       "             'shown': 1,\n",
       "             'simple': 1,\n",
       "             'simplify': 1,\n",
       "             'simply': 1,\n",
       "             'simultaneously': 1,\n",
       "             'single': 1,\n",
       "             'so': 1,\n",
       "             'solos': 1,\n",
       "             'some': 2,\n",
       "             'sonic': 1,\n",
       "             'still': 1,\n",
       "             'story': 1,\n",
       "             'stuart': 1,\n",
       "             'stupefying': 1,\n",
       "             'style': 1,\n",
       "             'swirling': 1,\n",
       "             't': 1,\n",
       "             'ten-minute': 1,\n",
       "             'than': 3,\n",
       "             'that': 7,\n",
       "             'the': 23,\n",
       "             'these': 1,\n",
       "             'this': 4,\n",
       "             'those': 2,\n",
       "             'time': 1,\n",
       "             'to': 5,\n",
       "             'tomorrow': 1,\n",
       "             'tone': 1,\n",
       "             'too': 1,\n",
       "             'touching': 1,\n",
       "             'tour': 1,\n",
       "             'track': 1,\n",
       "             'track-by-track': 1,\n",
       "             'transcendent': 1,\n",
       "             'trees': 3,\n",
       "             'true': 1,\n",
       "             'un': 1,\n",
       "             'unrelenting': 1,\n",
       "             'us': 1,\n",
       "             'vast': 1,\n",
       "             'verdict': 1,\n",
       "             'vida': 1,\n",
       "             'wardead': 1,\n",
       "             'was': 1,\n",
       "             'week': 1,\n",
       "             'welcome': 1,\n",
       "             'while': 1,\n",
       "             'who': 1,\n",
       "             'with': 4,\n",
       "             'without': 2,\n",
       "             'won': 1,\n",
       "             'writes': 1,\n",
       "             'yesterday': 2,\n",
       "             'you': 2,\n",
       "             'zoo': 1,\n",
       "             '–': 1,\n",
       "             '’': 9,\n",
       "             '“': 4,\n",
       "             '”': 4})"
      ]
     },
     "execution_count": 37,
     "metadata": {},
     "output_type": "execute_result"
    }
   ],
   "source": [
    "text = TextBlob(reviews.review[10])\n",
    "text.word_counts"
   ]
  },
  {
   "cell_type": "code",
   "execution_count": 122,
   "metadata": {},
   "outputs": [
    {
     "data": {
      "text/plain": [
       "WordList(['Reissue', 'of', 'the', 'Week', 'Disclose', 'Published', 'September', '30', '2015', 'By', 'MRR', 'Categories', 'Reviews', 'DISCLOSE', '–', '“', 'Yesterday', '’', 's', 'Fairytale', 'Tomorrow', '’', 's', 'Nightmare', '”', 'LP', 'This', 'is', 'a', 'monumental', 'record', 'even', 'without', 'considering', 'its', 'place', 'as', 'the', 'final', 'DISCLOSE', 'LP', 'released', 'before', 'Kawakami', '’', 's', 'passing', 'in', '2007', 'His', 'death', 'casts', 'an', 'enduring', 'pall', 'particularly', 'evident', 'here', 'in', 'the', 'new', 'liner', 'notes', 'from', 'Stuart', 'Schrader', 'While', 'Schrader', 'primarily', 'writes', 'about', 'the', 'ill-fated', 'DISCLOSE', 'FRAMTID', 'tour', 'it', 'is', 'a', 'far', 'more', 'insightful', 'nuanced', 'and', 'touching', 'read', 'than', 'that', 'might', 'seem', 'Neither', 'romantic', 'nor', 'cynical', 'the', 'tone', 'is', 'simply', 'reflective', 'and', 'personal', 'here', 'are', 'his', 'perceptions', 'of', 'Kawakami', '’', 's', 'experience', 'in', 'the', 'US', 'not', 'a', 'verdict', 'but', 'a', 'single', 'opinion', 'The', 'epilogue', 'of', 'the', 'story', 'over', 'a', 'decade', 'later', 'remains', 'ambivalent', 'Kawakami', 'despite', 'his', 'legacy', 'was', 'still', 'a', 'human', 'being', 'irreducible', 'to', 'the', 'mythos', 'that', 'lives', 'on', 'after', 'him', 'The', 'continued', 'care', 'and', 'commitment', 'shown', 'by', 'those', 'that', 'knew', 'him', 'and', 'called', 'him', '“', 'friend', '”', 'are', 'a', 'welcome', 'palliative', 'showing', 'a', 'more', 'grounded', 'context', 'to', 'the', 'DISCLOSE', 'legend', 'In', 'that', 'respect', 'the', 'royalties', 'from', 'this', 'reissue', 'are', 'going', 'to', 'Kawakami', '’', 's', 'mother', 'Of', 'course', 'for', 'the', 'vast', 'majority', 'of', 'listeners', 'as', 'Schrader', 'is', 'mindful', 'to', 'point', 'out', 'the', 'context', 'is', 'far', 'less', 'immediately', 'relevant', 'than', 'the', 'record', 'itself', 'For', 'those', 'who', 'ignore', 'or', 'simplify', 'DISCLOSE', 'as', 'just', 'some', 'DISCHARGE-worship', 'you', 'are', 'missing', 'the', 'forest', 'for', 'the', 'trees', 'because', 'these', 'trees', 'look', 'like', 'some', 'other', 'damn', 'trees', 'you', 'saw', 'in', 'a', 'different', 'fucking', 'forest', 'It', '’', 's', 'just', 'not', 'that', 'simple', 'and', 'especially', 'not', 'with', 'this', 'record', 'Schrader', '’', 's', 'track-by-track', 'notes', 'are', 'much', 'more', 'compelling', 'and', 'attentive', 'than', 'anything', 'I', 'can', 'comparably', 'muster', 'so', 'I', 'won', '’', 't', 'attempt', 'too', 'much', 'here', 'Yesterday', '’', 's', 'Fairytale', 'is', 'the', 'pinnacle', 'of', '“', 'Disbones', '”', 'era', 'DISCLOSE', 'fuzzed-out', 'D-beat', 'with', 'increasingly', 'more', 'metallic', 'influence', 'in', 'the', 'guitar', 'riffs', 'Without', 'forsaking', 'any', 'of', 'the', 'raw', 'energy', 'this', 'style', 'set', 'loose', 'the', 'true', 'hypnotic', 'potential', 'of', 'the', 'unrelenting', 'beat', 'that', 'found', 'its', 'logical', 'conclusion', 'in', 'the', 'closing', 'track', '“', 'Wardead', '”', 'a', 'nearly', 'ten-minute', 'opus', 'of', 'swirling', 'chaos', 'and', 'perpetual', 'solos', 'a', 'psychedelic', 'disengagement', 'with', 'time', 'a', 'sonic', 'inertial', 'assault', 'that', 'is', 'simultaneously', 'as', 'stupefying', 'as', 'it', 'is', 'doggedly', 'transcendent', 'Noise', 'not', 'music', 'Best', 'listened', 'to', 'with', 'a', 'foggy', 'brain', 'RIP', 'Kawakami', 'Kawakami', 'forever', 'Shit', 'Zoo', 'La', 'Vida', 'Es', 'Un', 'Mus'])"
      ]
     },
     "execution_count": 122,
     "metadata": {},
     "output_type": "execute_result"
    }
   ],
   "source": [
    "text.words"
   ]
  },
  {
   "cell_type": "code",
   "execution_count": 38,
   "metadata": {},
   "outputs": [],
   "source": [
    "word_list = set(text.words)"
   ]
  },
  {
   "cell_type": "code",
   "execution_count": 39,
   "metadata": {},
   "outputs": [
    {
     "data": {
      "text/plain": [
       "399"
      ]
     },
     "execution_count": 39,
     "metadata": {},
     "output_type": "execute_result"
    }
   ],
   "source": [
    "len(text.words)"
   ]
  },
  {
   "cell_type": "code",
   "execution_count": 40,
   "metadata": {},
   "outputs": [
    {
     "data": {
      "text/plain": [
       "250"
      ]
     },
     "execution_count": 40,
     "metadata": {},
     "output_type": "execute_result"
    }
   ],
   "source": [
    "len(word_list)"
   ]
  },
  {
   "cell_type": "code",
   "execution_count": 41,
   "metadata": {},
   "outputs": [
    {
     "data": {
      "text/plain": [
       "239"
      ]
     },
     "execution_count": 41,
     "metadata": {},
     "output_type": "execute_result"
    }
   ],
   "source": [
    "len(text.word_counts.values())"
   ]
  },
  {
   "cell_type": "code",
   "execution_count": 127,
   "metadata": {},
   "outputs": [],
   "source": [
    "%matplotlib inline\n",
    "import matplotlib.pyplot as plt\n",
    "import pandas as pd"
   ]
  },
  {
   "cell_type": "code",
   "execution_count": 42,
   "metadata": {},
   "outputs": [
    {
     "data": {
      "text/plain": [
       "dict_items([('reissue', 2), ('of', 9), ('the', 23), ('week', 1), ('disclose', 7), ('published', 1), ('september', 1), ('30', 1), ('2015', 1), ('by', 2), ('mrr', 1), ('categories', 1), ('reviews', 1), ('–', 1), ('“', 4), ('yesterday', 2), ('’', 9), ('s', 8), ('fairytale', 2), ('tomorrow', 1), ('nightmare', 1), ('”', 4), ('lp', 2), ('this', 4), ('is', 8), ('a', 13), ('monumental', 1), ('record', 3), ('even', 1), ('without', 2), ('considering', 1), ('its', 2), ('place', 1), ('as', 5), ('final', 1), ('released', 1), ('before', 1), ('kawakami', 6), ('passing', 1), ('in', 7), ('2007', 1), ('his', 3), ('death', 1), ('casts', 1), ('an', 1), ('enduring', 1), ('pall', 1), ('particularly', 1), ('evident', 1), ('here', 3), ('new', 1), ('liner', 1), ('notes', 2), ('from', 2), ('stuart', 1), ('schrader', 4), ('while', 1), ('primarily', 1), ('writes', 1), ('about', 1), ('ill-fated', 1), ('framtid', 1), ('tour', 1), ('it', 3), ('far', 2), ('more', 4), ('insightful', 1), ('nuanced', 1), ('and', 7), ('touching', 1), ('read', 1), ('than', 3), ('that', 7), ('might', 1), ('seem', 1), ('neither', 1), ('romantic', 1), ('nor', 1), ('cynical', 1), ('tone', 1), ('simply', 1), ('reflective', 1), ('personal', 1), ('are', 5), ('perceptions', 1), ('experience', 1), ('us', 1), ('not', 4), ('verdict', 1), ('but', 1), ('single', 1), ('opinion', 1), ('epilogue', 1), ('story', 1), ('over', 1), ('decade', 1), ('later', 1), ('remains', 1), ('ambivalent', 1), ('despite', 1), ('legacy', 1), ('was', 1), ('still', 1), ('human', 1), ('being', 1), ('irreducible', 1), ('to', 5), ('mythos', 1), ('lives', 1), ('on', 1), ('after', 1), ('him', 3), ('continued', 1), ('care', 1), ('commitment', 1), ('shown', 1), ('those', 2), ('knew', 1), ('called', 1), ('friend', 1), ('welcome', 1), ('palliative', 1), ('showing', 1), ('grounded', 1), ('context', 2), ('legend', 1), ('respect', 1), ('royalties', 1), ('going', 1), ('mother', 1), ('course', 1), ('for', 3), ('vast', 1), ('majority', 1), ('listeners', 1), ('mindful', 1), ('point', 1), ('out', 1), ('less', 1), ('immediately', 1), ('relevant', 1), ('itself', 1), ('who', 1), ('ignore', 1), ('or', 1), ('simplify', 1), ('just', 2), ('some', 2), ('discharge-worship', 1), ('you', 2), ('missing', 1), ('forest', 2), ('trees', 3), ('because', 1), ('these', 1), ('look', 1), ('like', 1), ('other', 1), ('damn', 1), ('saw', 1), ('different', 1), ('fucking', 1), ('simple', 1), ('especially', 1), ('with', 4), ('track-by-track', 1), ('much', 2), ('compelling', 1), ('attentive', 1), ('anything', 1), ('i', 2), ('can', 1), ('comparably', 1), ('muster', 1), ('so', 1), ('won', 1), ('t', 1), ('attempt', 1), ('too', 1), ('pinnacle', 1), ('disbones', 1), ('era', 1), ('fuzzed-out', 1), ('d-beat', 1), ('increasingly', 1), ('metallic', 1), ('influence', 1), ('guitar', 1), ('riffs', 1), ('forsaking', 1), ('any', 1), ('raw', 1), ('energy', 1), ('style', 1), ('set', 1), ('loose', 1), ('true', 1), ('hypnotic', 1), ('potential', 1), ('unrelenting', 1), ('beat', 1), ('found', 1), ('logical', 1), ('conclusion', 1), ('closing', 1), ('track', 1), ('wardead', 1), ('nearly', 1), ('ten-minute', 1), ('opus', 1), ('swirling', 1), ('chaos', 1), ('perpetual', 1), ('solos', 1), ('psychedelic', 1), ('disengagement', 1), ('time', 1), ('sonic', 1), ('inertial', 1), ('assault', 1), ('simultaneously', 1), ('stupefying', 1), ('doggedly', 1), ('transcendent', 1), ('noise', 1), ('music', 1), ('best', 1), ('listened', 1), ('foggy', 1), ('brain', 1), ('rip', 1), ('forever', 1), ('shit', 1), ('zoo', 1), ('la', 1), ('vida', 1), ('es', 1), ('un', 1), ('mus', 1)])"
      ]
     },
     "execution_count": 42,
     "metadata": {},
     "output_type": "execute_result"
    }
   ],
   "source": [
    "text.word_counts.items()"
   ]
  },
  {
   "cell_type": "code",
   "execution_count": 43,
   "metadata": {},
   "outputs": [
    {
     "data": {
      "text/plain": [
       "dict_keys(['reissue', 'of', 'the', 'week', 'disclose', 'published', 'september', '30', '2015', 'by', 'mrr', 'categories', 'reviews', '–', '“', 'yesterday', '’', 's', 'fairytale', 'tomorrow', 'nightmare', '”', 'lp', 'this', 'is', 'a', 'monumental', 'record', 'even', 'without', 'considering', 'its', 'place', 'as', 'final', 'released', 'before', 'kawakami', 'passing', 'in', '2007', 'his', 'death', 'casts', 'an', 'enduring', 'pall', 'particularly', 'evident', 'here', 'new', 'liner', 'notes', 'from', 'stuart', 'schrader', 'while', 'primarily', 'writes', 'about', 'ill-fated', 'framtid', 'tour', 'it', 'far', 'more', 'insightful', 'nuanced', 'and', 'touching', 'read', 'than', 'that', 'might', 'seem', 'neither', 'romantic', 'nor', 'cynical', 'tone', 'simply', 'reflective', 'personal', 'are', 'perceptions', 'experience', 'us', 'not', 'verdict', 'but', 'single', 'opinion', 'epilogue', 'story', 'over', 'decade', 'later', 'remains', 'ambivalent', 'despite', 'legacy', 'was', 'still', 'human', 'being', 'irreducible', 'to', 'mythos', 'lives', 'on', 'after', 'him', 'continued', 'care', 'commitment', 'shown', 'those', 'knew', 'called', 'friend', 'welcome', 'palliative', 'showing', 'grounded', 'context', 'legend', 'respect', 'royalties', 'going', 'mother', 'course', 'for', 'vast', 'majority', 'listeners', 'mindful', 'point', 'out', 'less', 'immediately', 'relevant', 'itself', 'who', 'ignore', 'or', 'simplify', 'just', 'some', 'discharge-worship', 'you', 'missing', 'forest', 'trees', 'because', 'these', 'look', 'like', 'other', 'damn', 'saw', 'different', 'fucking', 'simple', 'especially', 'with', 'track-by-track', 'much', 'compelling', 'attentive', 'anything', 'i', 'can', 'comparably', 'muster', 'so', 'won', 't', 'attempt', 'too', 'pinnacle', 'disbones', 'era', 'fuzzed-out', 'd-beat', 'increasingly', 'metallic', 'influence', 'guitar', 'riffs', 'forsaking', 'any', 'raw', 'energy', 'style', 'set', 'loose', 'true', 'hypnotic', 'potential', 'unrelenting', 'beat', 'found', 'logical', 'conclusion', 'closing', 'track', 'wardead', 'nearly', 'ten-minute', 'opus', 'swirling', 'chaos', 'perpetual', 'solos', 'psychedelic', 'disengagement', 'time', 'sonic', 'inertial', 'assault', 'simultaneously', 'stupefying', 'doggedly', 'transcendent', 'noise', 'music', 'best', 'listened', 'foggy', 'brain', 'rip', 'forever', 'shit', 'zoo', 'la', 'vida', 'es', 'un', 'mus'])"
      ]
     },
     "execution_count": 43,
     "metadata": {},
     "output_type": "execute_result"
    }
   ],
   "source": [
    "text.word_counts.keys()"
   ]
  },
  {
   "cell_type": "code",
   "execution_count": 44,
   "metadata": {},
   "outputs": [
    {
     "data": {
      "text/plain": [
       "dict_values([2, 9, 23, 1, 7, 1, 1, 1, 1, 2, 1, 1, 1, 1, 4, 2, 9, 8, 2, 1, 1, 4, 2, 4, 8, 13, 1, 3, 1, 2, 1, 2, 1, 5, 1, 1, 1, 6, 1, 7, 1, 3, 1, 1, 1, 1, 1, 1, 1, 3, 1, 1, 2, 2, 1, 4, 1, 1, 1, 1, 1, 1, 1, 3, 2, 4, 1, 1, 7, 1, 1, 3, 7, 1, 1, 1, 1, 1, 1, 1, 1, 1, 1, 5, 1, 1, 1, 4, 1, 1, 1, 1, 1, 1, 1, 1, 1, 1, 1, 1, 1, 1, 1, 1, 1, 1, 5, 1, 1, 1, 1, 3, 1, 1, 1, 1, 2, 1, 1, 1, 1, 1, 1, 1, 2, 1, 1, 1, 1, 1, 1, 3, 1, 1, 1, 1, 1, 1, 1, 1, 1, 1, 1, 1, 1, 1, 2, 2, 1, 2, 1, 2, 3, 1, 1, 1, 1, 1, 1, 1, 1, 1, 1, 1, 4, 1, 2, 1, 1, 1, 2, 1, 1, 1, 1, 1, 1, 1, 1, 1, 1, 1, 1, 1, 1, 1, 1, 1, 1, 1, 1, 1, 1, 1, 1, 1, 1, 1, 1, 1, 1, 1, 1, 1, 1, 1, 1, 1, 1, 1, 1, 1, 1, 1, 1, 1, 1, 1, 1, 1, 1, 1, 1, 1, 1, 1, 1, 1, 1, 1, 1, 1, 1, 1, 1, 1, 1, 1, 1])"
      ]
     },
     "execution_count": 44,
     "metadata": {},
     "output_type": "execute_result"
    }
   ],
   "source": [
    "text.word_counts.values()"
   ]
  },
  {
   "cell_type": "code",
   "execution_count": 45,
   "metadata": {},
   "outputs": [
    {
     "data": {
      "text/plain": [
       "<Container object of 239 artists>"
      ]
     },
     "execution_count": 45,
     "metadata": {},
     "output_type": "execute_result"
    },
    {
     "data": {
      "image/png": "[encoded data removed]",
      "text/plain": [
       "<matplotlib.figure.Figure at 0x11461dba8>"
      ]
     },
     "metadata": {},
     "output_type": "display_data"
    }
   ],
   "source": [
    "plt.figure(figsize = (15, 6))\n",
    "plt.bar(text.word_counts.keys(), text.word_counts.values())"
   ]
  },
  {
   "cell_type": "code",
   "execution_count": 46,
   "metadata": {},
   "outputs": [],
   "source": [
    "df = pd.DataFrame({'words': [word for word in text.word_counts.keys()], 'counts': [count for count in text.word_counts.values()]})"
   ]
  },
  {
   "cell_type": "code",
   "execution_count": 133,
   "metadata": {},
   "outputs": [
    {
     "name": "stdout",
     "output_type": "stream",
     "text": [
      "<class 'pandas.core.frame.DataFrame'>\n",
      "RangeIndex: 239 entries, 0 to 238\n",
      "Data columns (total 2 columns):\n",
      "counts    239 non-null int64\n",
      "words     239 non-null object\n",
      "dtypes: int64(1), object(1)\n",
      "memory usage: 3.8+ KB\n"
     ]
    }
   ],
   "source": [
    "df.info()"
   ]
  },
  {
   "cell_type": "code",
   "execution_count": 47,
   "metadata": {},
   "outputs": [
    {
     "data": {
      "text/html": [
       "<div>\n",
       "<style scoped>\n",
       "    .dataframe tbody tr th:only-of-type {\n",
       "        vertical-align: middle;\n",
       "    }\n",
       "\n",
       "    .dataframe tbody tr th {\n",
       "        vertical-align: top;\n",
       "    }\n",
       "\n",
       "    .dataframe thead th {\n",
       "        text-align: right;\n",
       "    }\n",
       "</style>\n",
       "<table border=\"1\" class=\"dataframe\">\n",
       "  <thead>\n",
       "    <tr style=\"text-align: right;\">\n",
       "      <th></th>\n",
       "      <th>counts</th>\n",
       "      <th>words</th>\n",
       "    </tr>\n",
       "  </thead>\n",
       "  <tbody>\n",
       "    <tr>\n",
       "      <th>0</th>\n",
       "      <td>2</td>\n",
       "      <td>reissue</td>\n",
       "    </tr>\n",
       "    <tr>\n",
       "      <th>1</th>\n",
       "      <td>9</td>\n",
       "      <td>of</td>\n",
       "    </tr>\n",
       "    <tr>\n",
       "      <th>2</th>\n",
       "      <td>23</td>\n",
       "      <td>the</td>\n",
       "    </tr>\n",
       "    <tr>\n",
       "      <th>3</th>\n",
       "      <td>1</td>\n",
       "      <td>week</td>\n",
       "    </tr>\n",
       "    <tr>\n",
       "      <th>4</th>\n",
       "      <td>7</td>\n",
       "      <td>disclose</td>\n",
       "    </tr>\n",
       "  </tbody>\n",
       "</table>\n",
       "</div>"
      ],
      "text/plain": [
       "   counts     words\n",
       "0       2   reissue\n",
       "1       9        of\n",
       "2      23       the\n",
       "3       1      week\n",
       "4       7  disclose"
      ]
     },
     "execution_count": 47,
     "metadata": {},
     "output_type": "execute_result"
    }
   ],
   "source": [
    "df.head()"
   ]
  },
  {
   "cell_type": "code",
   "execution_count": 135,
   "metadata": {},
   "outputs": [],
   "source": [
    "df.counts = df.counts.astype('int')"
   ]
  },
  {
   "cell_type": "code",
   "execution_count": 48,
   "metadata": {},
   "outputs": [],
   "source": [
    "large = df.nlargest(10, 'counts')"
   ]
  },
  {
   "cell_type": "code",
   "execution_count": 49,
   "metadata": {},
   "outputs": [
    {
     "data": {
      "text/plain": [
       "<Container object of 10 artists>"
      ]
     },
     "execution_count": 49,
     "metadata": {},
     "output_type": "execute_result"
    },
    {
     "data": {
      "image/png": "[encoded data removed]",
      "text/plain": [
       "<matplotlib.figure.Figure at 0x1146a4eb8>"
      ]
     },
     "metadata": {},
     "output_type": "display_data"
    }
   ],
   "source": [
    "plt.figure(figsize = (12, 5))\n",
    "plt.bar(large['words'], large['counts'])"
   ]
  },
  {
   "cell_type": "code",
   "execution_count": 138,
   "metadata": {},
   "outputs": [],
   "source": [
    "from sklearn.feature_extraction.text import CountVectorizer"
   ]
  },
  {
   "cell_type": "code",
   "execution_count": 139,
   "metadata": {},
   "outputs": [],
   "source": [
    "cvect = CountVectorizer()"
   ]
  },
  {
   "cell_type": "code",
   "execution_count": 140,
   "metadata": {},
   "outputs": [
    {
     "data": {
      "text/plain": [
       "<150x8611 sparse matrix of type '<class 'numpy.int64'>'\n",
       "\twith 29595 stored elements in Compressed Sparse Row format>"
      ]
     },
     "execution_count": 140,
     "metadata": {},
     "output_type": "execute_result"
    }
   ],
   "source": [
    "cvect.fit_transform(reviews.review)"
   ]
  },
  {
   "cell_type": "code",
   "execution_count": 143,
   "metadata": {},
   "outputs": [
    {
     "data": {
      "text/plain": [
       "['00', '000', '00s', '01', '02', '03', '04', '05', '06', '064']"
      ]
     },
     "execution_count": 143,
     "metadata": {},
     "output_type": "execute_result"
    }
   ],
   "source": [
    "cvect.get_feature_names()[:10]"
   ]
  },
  {
   "cell_type": "code",
   "execution_count": 168,
   "metadata": {},
   "outputs": [],
   "source": [
    "cvect = CountVectorizer(stop_words='english', max_features=300)"
   ]
  },
  {
   "cell_type": "code",
   "execution_count": 169,
   "metadata": {},
   "outputs": [
    {
     "data": {
      "text/plain": [
       "<150x300 sparse matrix of type '<class 'numpy.int64'>'\n",
       "\twith 6665 stored elements in Compressed Sparse Row format>"
      ]
     },
     "execution_count": 169,
     "metadata": {},
     "output_type": "execute_result"
    }
   ],
   "source": [
    "cvect.fit_transform(reviews.review)"
   ]
  },
  {
   "cell_type": "code",
   "execution_count": 170,
   "metadata": {},
   "outputs": [
    {
     "data": {
      "text/plain": [
       "['10', '11', '12', '2012', '2013', '2014', '2015', '80s', '90s', 'actually']"
      ]
     },
     "execution_count": 170,
     "metadata": {},
     "output_type": "execute_result"
    }
   ],
   "source": [
    "cvect.get_feature_names()[:10]"
   ]
  }
 ],
 "metadata": {
  "kernelspec": {
   "display_name": "Python 3",
   "language": "python",
   "name": "python3"
  },
  "language_info": {
   "codemirror_mode": {
    "name": "ipython",
    "version": 3
   },
   "file_extension": ".py",
   "mimetype": "text/x-python",
   "name": "python",
   "nbconvert_exporter": "python",
   "pygments_lexer": "ipython3",
   "version": "3.6.6"
  }
 },
 "nbformat": 4,
 "nbformat_minor": 2
}
