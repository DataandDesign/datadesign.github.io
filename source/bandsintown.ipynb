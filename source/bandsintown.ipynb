{
 "cells": [
  {
   "cell_type": "markdown",
   "metadata": {},
   "source": [
    "# BandsinTown\n",
    "\n",
    "![](images/bandsintown.png)"
   ]
  },
  {
   "cell_type": "code",
   "execution_count": 43,
   "metadata": {},
   "outputs": [],
   "source": [
    "from bs4 import BeautifulSoup\n",
    "import requests"
   ]
  },
  {
   "cell_type": "code",
   "execution_count": 101,
   "metadata": {},
   "outputs": [],
   "source": [
    "url = 'https://www.bandsintown.com/en?came_from=257&sort_by_filter=Number+of+RSVPs'"
   ]
  },
  {
   "cell_type": "code",
   "execution_count": 102,
   "metadata": {},
   "outputs": [],
   "source": [
    "response = requests.get(url)\n",
    "soup = BeautifulSoup(response.text, 'html.parser')"
   ]
  },
  {
   "cell_type": "code",
   "execution_count": 103,
   "metadata": {},
   "outputs": [],
   "source": [
    "events = soup.find('div', {'class': 'eventList-5e5f25ca'})"
   ]
  },
  {
   "cell_type": "code",
   "execution_count": 104,
   "metadata": {},
   "outputs": [
    {
     "name": "stdout",
     "output_type": "stream",
     "text": [
      "None\n",
      "<div class=\"LazyLoad\" style=\"height:70px;width:70px\"></div>\n",
      "<div class=\"event-ad736269\">NOV</div>\n",
      "<div class=\"event-a7d492f7\"><div class=\"event-6891d84c\">Irving Plaza</div><div class=\"event-c5863c62\">New York, NY</div></div>\n",
      "<div class=\"event-ad736269\">NOV</div>\n",
      "<div class=\"event-c3967c50\">Tickets &amp; RSVP</div>\n"
     ]
    }
   ],
   "source": [
    "for i in events.div:\n",
    "    print(i.div)"
   ]
  },
  {
   "cell_type": "code",
   "execution_count": 105,
   "metadata": {},
   "outputs": [
    {
     "data": {
      "text/plain": [
       "2"
      ]
     },
     "execution_count": 105,
     "metadata": {},
     "output_type": "execute_result"
    }
   ],
   "source": [
    "len(events)"
   ]
  },
  {
   "cell_type": "code",
   "execution_count": 106,
   "metadata": {},
   "outputs": [
    {
     "data": {
      "text/plain": [
       "<div class=\"eventList-5e5f25ca\"><div class=\"event-0fe45b3b\"><a class=\"event-52550c22\" href=\"https://www.bandsintown.com/en/e/100147228-billie-eilish-at-irving-plaza?came_from=257&amp;utm_medium=web&amp;utm_source=home&amp;utm_campaign=event\"></a><div class=\"event-49d18d61\"><div class=\"LazyLoad\" style=\"height:70px;width:70px\"></div></div><div class=\"event-02e85563\"><div class=\"event-ad736269\">NOV</div><div class=\"event-d7a00339\">03</div></div><div class=\"event-38a9a08e\"><h2 class=\"event-5daafce9\"><a href=\"https://www.bandsintown.com/en/a/12895856-billie-eilish?came_from=257&amp;utm_medium=web&amp;utm_source=home&amp;utm_campaign=event\">Billie Eilish</a></h2><div class=\"event-a7d492f7\"><div class=\"event-6891d84c\">Irving Plaza</div><div class=\"event-c5863c62\">New York, NY</div></div></div><div class=\"event-b58f7990\"><div class=\"event-ad736269\">NOV</div><div class=\"event-d7a00339\">03</div></div><div class=\"event-47ded5a8\"><div class=\"event-c3967c50\">Tickets &amp; RSVP</div></div></div><hr class=\"eventList-7057111c\"/></div>"
      ]
     },
     "execution_count": 106,
     "metadata": {},
     "output_type": "execute_result"
    }
   ],
   "source": [
    "events"
   ]
  },
  {
   "cell_type": "code",
   "execution_count": 107,
   "metadata": {},
   "outputs": [
    {
     "data": {
      "text/plain": [
       "<div class=\"event-02e85563\"><div class=\"event-ad736269\">NOV</div><div class=\"event-d7a00339\">03</div></div>"
      ]
     },
     "execution_count": 107,
     "metadata": {},
     "output_type": "execute_result"
    }
   ],
   "source": [
    "soup.find('div', {'class': 'event-02e85563'})"
   ]
  },
  {
   "cell_type": "code",
   "execution_count": 108,
   "metadata": {},
   "outputs": [
    {
     "data": {
      "text/plain": [
       "<div class=\"event-ad736269\">NOV</div>"
      ]
     },
     "execution_count": 108,
     "metadata": {},
     "output_type": "execute_result"
    }
   ],
   "source": [
    "soup.find('div', {'class': 'event-02e85563'}).div"
   ]
  },
  {
   "cell_type": "code",
   "execution_count": 109,
   "metadata": {},
   "outputs": [
    {
     "data": {
      "text/plain": [
       "[<div class=\"event-ad736269\">NOV</div>, <div class=\"event-d7a00339\">03</div>]"
      ]
     },
     "execution_count": 109,
     "metadata": {},
     "output_type": "execute_result"
    }
   ],
   "source": [
    "soup.find('div', {'class': 'event-02e85563'}).find_all('div')"
   ]
  },
  {
   "cell_type": "code",
   "execution_count": 110,
   "metadata": {},
   "outputs": [
    {
     "name": "stdout",
     "output_type": "stream",
     "text": [
      "NOV\n",
      "03\n"
     ]
    }
   ],
   "source": [
    "for i in soup.find('div', {'class': 'event-02e85563'}).find_all('div'):\n",
    "    print(i.text)"
   ]
  },
  {
   "cell_type": "code",
   "execution_count": 111,
   "metadata": {},
   "outputs": [
    {
     "data": {
      "text/plain": [
       "<div class=\"event-38a9a08e\"><h2 class=\"event-5daafce9\"><a href=\"https://www.bandsintown.com/en/a/12895856-billie-eilish?came_from=257&amp;utm_medium=web&amp;utm_source=home&amp;utm_campaign=event\">Billie Eilish</a></h2><div class=\"event-a7d492f7\"><div class=\"event-6891d84c\">Irving Plaza</div><div class=\"event-c5863c62\">New York, NY</div></div></div>"
      ]
     },
     "execution_count": 111,
     "metadata": {},
     "output_type": "execute_result"
    }
   ],
   "source": [
    "soup.find('div', {'class': 'event-38a9a08e'})"
   ]
  },
  {
   "cell_type": "code",
   "execution_count": 112,
   "metadata": {},
   "outputs": [
    {
     "data": {
      "text/plain": [
       "'Billie Eilish'"
      ]
     },
     "execution_count": 112,
     "metadata": {},
     "output_type": "execute_result"
    }
   ],
   "source": [
    "soup.find('div', {'class': 'event-38a9a08e'}).h2.text"
   ]
  },
  {
   "cell_type": "code",
   "execution_count": 113,
   "metadata": {},
   "outputs": [
    {
     "data": {
      "text/plain": [
       "[<div class=\"event-6891d84c\">Irving Plaza</div>,\n",
       " <div class=\"event-c5863c62\">New York, NY</div>]"
      ]
     },
     "execution_count": 113,
     "metadata": {},
     "output_type": "execute_result"
    }
   ],
   "source": [
    "soup.find('div', {'class': 'event-a7d492f7'}).find_all('div')"
   ]
  },
  {
   "cell_type": "code",
   "execution_count": 114,
   "metadata": {},
   "outputs": [
    {
     "name": "stdout",
     "output_type": "stream",
     "text": [
      "Irving Plaza\n",
      "New York, NY\n"
     ]
    }
   ],
   "source": [
    "for i in soup.find('div', {'class': 'event-a7d492f7'}).find_all('div'):\n",
    "    print(i.text)"
   ]
  },
  {
   "cell_type": "code",
   "execution_count": 115,
   "metadata": {},
   "outputs": [],
   "source": [
    "dates = soup.find_all('div', {'class': 'event-02e85563'})"
   ]
  },
  {
   "cell_type": "code",
   "execution_count": 116,
   "metadata": {},
   "outputs": [],
   "source": [
    "month = []\n",
    "day = []\n",
    "for i in dates:\n",
    "    md = i.find_all('div')\n",
    "    month.append(md[0].text)\n",
    "    day.append(md[1].text)"
   ]
  },
  {
   "cell_type": "code",
   "execution_count": 117,
   "metadata": {},
   "outputs": [
    {
     "data": {
      "text/plain": [
       "['NOV',\n",
       " 'OCT',\n",
       " 'NOV',\n",
       " 'OCT',\n",
       " 'OCT',\n",
       " 'AUG',\n",
       " 'JAN',\n",
       " 'OCT',\n",
       " 'DEC',\n",
       " 'AUG',\n",
       " 'OCT',\n",
       " 'SEP',\n",
       " 'SEP',\n",
       " 'SEP',\n",
       " 'OCT',\n",
       " 'OCT',\n",
       " 'OCT',\n",
       " 'APR']"
      ]
     },
     "execution_count": 117,
     "metadata": {},
     "output_type": "execute_result"
    }
   ],
   "source": [
    "month"
   ]
  },
  {
   "cell_type": "code",
   "execution_count": 118,
   "metadata": {},
   "outputs": [
    {
     "data": {
      "text/plain": [
       "['03',\n",
       " '14',\n",
       " '07',\n",
       " '01',\n",
       " '09',\n",
       " '24',\n",
       " '18',\n",
       " '06',\n",
       " '29',\n",
       " '10',\n",
       " '13',\n",
       " '29',\n",
       " '29',\n",
       " '29',\n",
       " '09',\n",
       " '13',\n",
       " '15',\n",
       " '05']"
      ]
     },
     "execution_count": 118,
     "metadata": {},
     "output_type": "execute_result"
    }
   ],
   "source": [
    "day"
   ]
  },
  {
   "cell_type": "code",
   "execution_count": 119,
   "metadata": {},
   "outputs": [],
   "source": [
    "artists = soup.find_all('div', {'class': 'event-38a9a08e'})"
   ]
  },
  {
   "cell_type": "code",
   "execution_count": 120,
   "metadata": {},
   "outputs": [],
   "source": [
    "art = []\n",
    "for artist in artists:\n",
    "    art.append(artist.h2.text)"
   ]
  },
  {
   "cell_type": "code",
   "execution_count": 121,
   "metadata": {},
   "outputs": [
    {
     "data": {
      "text/plain": [
       "['Billie Eilish',\n",
       " 'Maroon 5',\n",
       " 'Queen Naija',\n",
       " 'J.Cole',\n",
       " 'Florence and The Machine',\n",
       " 'Shawn Mendes',\n",
       " 'Panic! At The Disco',\n",
       " 'Maroon 5',\n",
       " 'Post Malone',\n",
       " 'Shawn Mendes',\n",
       " 'Gorillaz',\n",
       " 'Shawn Mendes',\n",
       " 'The Weeknd',\n",
       " 'The National',\n",
       " 'Troye Sivan',\n",
       " 'Nine Inch Nails',\n",
       " 'Maroon 5',\n",
       " \"Why Don't We\"]"
      ]
     },
     "execution_count": 121,
     "metadata": {},
     "output_type": "execute_result"
    }
   ],
   "source": [
    "art"
   ]
  },
  {
   "cell_type": "code",
   "execution_count": 122,
   "metadata": {},
   "outputs": [],
   "source": [
    "venue = []\n",
    "city = []\n",
    "v = soup.find_all('div', {'class': 'event-a7d492f7'})\n",
    "for entry in v:\n",
    "    l = entry.find_all('div')\n",
    "    venue.append(l[0].text)\n",
    "    city.append(l[1].text)"
   ]
  },
  {
   "cell_type": "code",
   "execution_count": 123,
   "metadata": {},
   "outputs": [],
   "source": [
    "df = pd.DataFrame({'Month': month, 'Day': day, 'Artist': art, 'Venue': venue, 'City': city})"
   ]
  },
  {
   "cell_type": "code",
   "execution_count": 124,
   "metadata": {},
   "outputs": [
    {
     "data": {
      "text/html": [
       "<div>\n",
       "<style scoped>\n",
       "    .dataframe tbody tr th:only-of-type {\n",
       "        vertical-align: middle;\n",
       "    }\n",
       "\n",
       "    .dataframe tbody tr th {\n",
       "        vertical-align: top;\n",
       "    }\n",
       "\n",
       "    .dataframe thead th {\n",
       "        text-align: right;\n",
       "    }\n",
       "</style>\n",
       "<table border=\"1\" class=\"dataframe\">\n",
       "  <thead>\n",
       "    <tr style=\"text-align: right;\">\n",
       "      <th></th>\n",
       "      <th>Artist</th>\n",
       "      <th>City</th>\n",
       "      <th>Day</th>\n",
       "      <th>Month</th>\n",
       "      <th>Venue</th>\n",
       "    </tr>\n",
       "  </thead>\n",
       "  <tbody>\n",
       "    <tr>\n",
       "      <th>0</th>\n",
       "      <td>Billie Eilish</td>\n",
       "      <td>New York, NY</td>\n",
       "      <td>03</td>\n",
       "      <td>NOV</td>\n",
       "      <td>Irving Plaza</td>\n",
       "    </tr>\n",
       "    <tr>\n",
       "      <th>1</th>\n",
       "      <td>Maroon 5</td>\n",
       "      <td>New York, NY</td>\n",
       "      <td>14</td>\n",
       "      <td>OCT</td>\n",
       "      <td>Madison Square Garden</td>\n",
       "    </tr>\n",
       "    <tr>\n",
       "      <th>2</th>\n",
       "      <td>Queen Naija</td>\n",
       "      <td>New York, NY</td>\n",
       "      <td>07</td>\n",
       "      <td>NOV</td>\n",
       "      <td>Sound Of Brazil</td>\n",
       "    </tr>\n",
       "    <tr>\n",
       "      <th>3</th>\n",
       "      <td>J.Cole</td>\n",
       "      <td>New York, NY</td>\n",
       "      <td>01</td>\n",
       "      <td>OCT</td>\n",
       "      <td>Madison Square Garden</td>\n",
       "    </tr>\n",
       "    <tr>\n",
       "      <th>4</th>\n",
       "      <td>Florence and The Machine</td>\n",
       "      <td>Brooklyn, NY</td>\n",
       "      <td>09</td>\n",
       "      <td>OCT</td>\n",
       "      <td>Barclays Center</td>\n",
       "    </tr>\n",
       "  </tbody>\n",
       "</table>\n",
       "</div>"
      ],
      "text/plain": [
       "                     Artist          City Day Month                  Venue\n",
       "0             Billie Eilish  New York, NY  03   NOV           Irving Plaza\n",
       "1                  Maroon 5  New York, NY  14   OCT  Madison Square Garden\n",
       "2               Queen Naija  New York, NY  07   NOV        Sound Of Brazil\n",
       "3                    J.Cole  New York, NY  01   OCT  Madison Square Garden\n",
       "4  Florence and The Machine  Brooklyn, NY  09   OCT        Barclays Center"
      ]
     },
     "execution_count": 124,
     "metadata": {},
     "output_type": "execute_result"
    }
   ],
   "source": [
    "df.head()"
   ]
  },
  {
   "cell_type": "code",
   "execution_count": null,
   "metadata": {},
   "outputs": [],
   "source": []
  },
  {
   "cell_type": "code",
   "execution_count": null,
   "metadata": {},
   "outputs": [],
   "source": []
  }
 ],
 "metadata": {
  "kernelspec": {
   "display_name": "Python 3",
   "language": "python",
   "name": "python3"
  },
  "language_info": {
   "codemirror_mode": {
    "name": "ipython",
    "version": 3
   },
   "file_extension": ".py",
   "mimetype": "text/x-python",
   "name": "python",
   "nbconvert_exporter": "python",
   "pygments_lexer": "ipython3",
   "version": "3.6.6"
  }
 },
 "nbformat": 4,
 "nbformat_minor": 2
}
